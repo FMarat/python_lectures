{
 "cells": [
  {
   "cell_type": "markdown",
   "metadata": {},
   "source": [
    "# Смотрите [первую часть](Python_intro1.ipynb)"
   ]
  },
  {
   "cell_type": "markdown",
   "metadata": {},
   "source": [
    "## Множества и словари"
   ]
  },
  {
   "cell_type": "markdown",
   "metadata": {},
   "source": [
    "### Множества"
   ]
  },
  {
   "cell_type": "markdown",
   "metadata": {},
   "source": [
    "Множества (set) - это особый тип данных, который содержит неповторяющиеся элементы."
   ]
  },
  {
   "cell_type": "code",
   "execution_count": null,
   "metadata": {},
   "outputs": [],
   "source": [
    "a = set() # Задание пустого множества"
   ]
  },
  {
   "cell_type": "code",
   "execution_count": null,
   "metadata": {},
   "outputs": [],
   "source": [
    "a.add(1) # добавляем четыре элемента (1,2,2,3) \n",
    "a.add(2)\n",
    "a.add(2)\n",
    "a.add(3)"
   ]
  },
  {
   "cell_type": "code",
   "execution_count": null,
   "metadata": {},
   "outputs": [],
   "source": [
    "a # В множестве три разных неповторяющихся элемента (1,2,3)"
   ]
  },
  {
   "cell_type": "code",
   "execution_count": null,
   "metadata": {},
   "outputs": [],
   "source": [
    "type(a), isinstance(a, set) # тип - множество"
   ]
  },
  {
   "cell_type": "markdown",
   "metadata": {},
   "source": [
    "В языке Python сушествуют удобные способы построения множеств из других типов (например списки, строки, кортежи и др.)"
   ]
  },
  {
   "cell_type": "code",
   "execution_count": null,
   "metadata": {},
   "outputs": [],
   "source": [
    "set([1, 2, 3]), set('Hello'), set((2, 3, 6, 2, 4)), set(range(0, 15, 3))"
   ]
  },
  {
   "cell_type": "markdown",
   "metadata": {},
   "source": [
    "Подобно генератором списков есть генераторы множеств. Пример ниже создает множество alphabet из символов строки, которые являются буквами алфавита (isalpha). Как видно, множество не сохраняет порядок элементов"
   ]
  },
  {
   "cell_type": "code",
   "execution_count": null,
   "metadata": {},
   "outputs": [],
   "source": [
    "alphabet = {c.upper() for c in 'Съешь же ещё этих мягких французских булок да выпей чаю'.lower() if c.isalpha()}\n",
    "print(alphabet)\n",
    "len(alphabet)"
   ]
  },
  {
   "cell_type": "code",
   "execution_count": null,
   "metadata": {},
   "outputs": [],
   "source": [
    "','.join(sorted(alphabet)) # отсортируем множество и объеденим его в строку, заметьте, что первая буква Ё (ord('Ё') < ord('А'))"
   ]
  },
  {
   "cell_type": "markdown",
   "metadata": {},
   "source": [
    "#### Операции над множествами"
   ]
  },
  {
   "cell_type": "code",
   "execution_count": null,
   "metadata": {},
   "outputs": [],
   "source": [
    "a = set(range(1,10))\n",
    "a"
   ]
  },
  {
   "cell_type": "code",
   "execution_count": null,
   "metadata": {},
   "outputs": [],
   "source": [
    "b = set(range(1, 15, 2))\n",
    "b"
   ]
  },
  {
   "cell_type": "markdown",
   "metadata": {},
   "source": [
    "Объединение"
   ]
  },
  {
   "cell_type": "code",
   "execution_count": null,
   "metadata": {},
   "outputs": [],
   "source": [
    "a | b "
   ]
  },
  {
   "cell_type": "code",
   "execution_count": null,
   "metadata": {},
   "outputs": [],
   "source": [
    " a.union(b) # другая форма записи"
   ]
  },
  {
   "cell_type": "markdown",
   "metadata": {},
   "source": [
    "Пересечение (Общие элементы и в первом и во втором множестве)"
   ]
  },
  {
   "cell_type": "code",
   "execution_count": null,
   "metadata": {},
   "outputs": [],
   "source": [
    "a & b"
   ]
  },
  {
   "cell_type": "code",
   "execution_count": null,
   "metadata": {},
   "outputs": [],
   "source": [
    " a.intersection(b) # другая форма записи"
   ]
  },
  {
   "cell_type": "markdown",
   "metadata": {},
   "source": [
    "Разность множеств"
   ]
  },
  {
   "cell_type": "code",
   "execution_count": null,
   "metadata": {},
   "outputs": [],
   "source": [
    "a - b # элементы первого множества минус элементы второго"
   ]
  },
  {
   "cell_type": "code",
   "execution_count": null,
   "metadata": {},
   "outputs": [],
   "source": [
    "b - a # элементы второго множества минус элементы первого"
   ]
  },
  {
   "cell_type": "code",
   "execution_count": null,
   "metadata": {},
   "outputs": [],
   "source": [
    "a.difference(b) # другая форма записи"
   ]
  },
  {
   "cell_type": "markdown",
   "metadata": {},
   "source": [
    "Симметрическая разность (элементы, входящие в <code>a</code> или в <code>b</code>, но не в оба из них одновременно).\n",
    "</div>"
   ]
  },
  {
   "cell_type": "code",
   "execution_count": null,
   "metadata": {},
   "outputs": [],
   "source": [
    "a ^ b"
   ]
  },
  {
   "cell_type": "markdown",
   "metadata": {},
   "source": [
    "Подмножества"
   ]
  },
  {
   "cell_type": "code",
   "execution_count": null,
   "metadata": {},
   "outputs": [],
   "source": [
    "a.issubset(b) # возвращает true если a - подмножество b"
   ]
  },
  {
   "cell_type": "code",
   "execution_count": null,
   "metadata": {},
   "outputs": [],
   "source": [
    "a.issuperset(b) # возвращает true если b - подмножество a"
   ]
  },
  {
   "cell_type": "code",
   "execution_count": null,
   "metadata": {},
   "outputs": [],
   "source": [
    "set([11, 13]).issubset(b)"
   ]
  },
  {
   "cell_type": "code",
   "execution_count": null,
   "metadata": {},
   "outputs": [],
   "source": [
    "b.issuperset(set([13]))"
   ]
  },
  {
   "cell_type": "markdown",
   "metadata": {},
   "source": [
    "Проверка элемента на вхождение в множество in. \n",
    "Операция проверки выполняется очень быстро, поэтому часто множества используется вместо списков и кортежей, когда надо быстро проверить есть ли такой элемент. "
   ]
  },
  {
   "cell_type": "code",
   "execution_count": null,
   "metadata": {},
   "outputs": [],
   "source": [
    "13 in b"
   ]
  },
  {
   "cell_type": "code",
   "execution_count": null,
   "metadata": {},
   "outputs": [],
   "source": [
    "if 13 in b:\n",
    "    print('Число 13 есть в b')"
   ]
  },
  {
   "cell_type": "markdown",
   "metadata": {},
   "source": [
    "### Словари"
   ]
  },
  {
   "cell_type": "markdown",
   "metadata": {},
   "source": [
    "Словари (dict) - это неупорядоченная коллекция объектов (значений, value), в которых данные сохраняются и извлекаются по ключу (key)"
   ]
  },
  {
   "cell_type": "code",
   "execution_count": null,
   "metadata": {},
   "outputs": [],
   "source": [
    "d = {} # пустой словарь"
   ]
  },
  {
   "cell_type": "code",
   "execution_count": null,
   "metadata": {},
   "outputs": [],
   "source": [
    "d = {'name':'Артем', 'age': 22} # словарь из двух элементов "
   ]
  },
  {
   "cell_type": "markdown",
   "metadata": {},
   "source": [
    "По ключу (key) 'name' хранится значение (value) 'Артем'"
   ]
  },
  {
   "cell_type": "code",
   "execution_count": null,
   "metadata": {},
   "outputs": [],
   "source": [
    "d['name'] # доступ к данных по ключу"
   ]
  },
  {
   "cell_type": "code",
   "execution_count": null,
   "metadata": {},
   "outputs": [],
   "source": [
    "d['age'] # доступ к данных по ключу"
   ]
  },
  {
   "cell_type": "code",
   "execution_count": null,
   "metadata": {},
   "outputs": [],
   "source": [
    "d.keys() # Ключи словаря"
   ]
  },
  {
   "cell_type": "code",
   "execution_count": null,
   "metadata": {},
   "outputs": [],
   "source": [
    "d.values() # Значения словаря"
   ]
  },
  {
   "cell_type": "markdown",
   "metadata": {},
   "source": [
    "Итерация по ключам словаря"
   ]
  },
  {
   "cell_type": "code",
   "execution_count": null,
   "metadata": {},
   "outputs": [],
   "source": [
    "for k in d.keys():\n",
    "    print('Ключ', k)"
   ]
  },
  {
   "cell_type": "markdown",
   "metadata": {},
   "source": [
    "Итерация по значениям словаря"
   ]
  },
  {
   "cell_type": "code",
   "execution_count": null,
   "metadata": {},
   "outputs": [],
   "source": [
    "for k in d.values():\n",
    "    print('Значение', k)"
   ]
  },
  {
   "cell_type": "markdown",
   "metadata": {},
   "source": [
    "Наиболее часто используют итерацию по словарю (по ключам и значениям). В цикле for k,v - это кортеж"
   ]
  },
  {
   "cell_type": "code",
   "execution_count": null,
   "metadata": {},
   "outputs": [],
   "source": [
    "for k, v in d.items():\n",
    "    print('У ключа', k, 'значение:', v)"
   ]
  },
  {
   "cell_type": "code",
   "execution_count": null,
   "metadata": {},
   "outputs": [],
   "source": [
    "d.items() # это список из кортежей ключ, значение"
   ]
  },
  {
   "cell_type": "markdown",
   "metadata": {},
   "source": [
    "Если элемента в словаре нет возникает Исключение (ошибка)"
   ]
  },
  {
   "cell_type": "code",
   "execution_count": null,
   "metadata": {},
   "outputs": [],
   "source": [
    "d['second_name']"
   ]
  },
  {
   "cell_type": "markdown",
   "metadata": {},
   "source": [
    "Чтобы не возникало ошибок используется метод get, который в случае отсутствия ключа выдает значение по-умолчанию (в данном примере - пустая строка)"
   ]
  },
  {
   "cell_type": "code",
   "execution_count": null,
   "metadata": {},
   "outputs": [],
   "source": [
    "d.get('second_name','')"
   ]
  },
  {
   "cell_type": "code",
   "execution_count": null,
   "metadata": {},
   "outputs": [],
   "source": [
    "if d.get('second_name', '')=='':\n",
    "    print('У пользователя {} фамилия не задана'.format(d['name']))"
   ]
  },
  {
   "cell_type": "code",
   "execution_count": null,
   "metadata": {},
   "outputs": [],
   "source": [
    "d['age'] = 34 # изменение элемента по ключу\n",
    "d"
   ]
  },
  {
   "cell_type": "code",
   "execution_count": null,
   "metadata": {},
   "outputs": [],
   "source": [
    "del d['age'] # удаление значения по ключу"
   ]
  },
  {
   "cell_type": "code",
   "execution_count": null,
   "metadata": {},
   "outputs": [],
   "source": [
    "d"
   ]
  },
  {
   "cell_type": "code",
   "execution_count": null,
   "metadata": {},
   "outputs": [],
   "source": [
    "d.clear() # очистка словаря\n",
    "d"
   ]
  },
  {
   "cell_type": "markdown",
   "metadata": {},
   "source": [
    "Также как и для списков, кортежей и множеств существуют генераторы словарей"
   ]
  },
  {
   "cell_type": "code",
   "execution_count": null,
   "metadata": {},
   "outputs": [],
   "source": [
    "squares = {i: i**2 for i in range(0,1001)} # таблица квадратов всех чисел до 1000"
   ]
  },
  {
   "cell_type": "code",
   "execution_count": null,
   "metadata": {},
   "outputs": [],
   "source": [
    "squares[134]"
   ]
  },
  {
   "cell_type": "markdown",
   "metadata": {},
   "source": [
    "**Задача**\n",
    "\n",
    "Дан текст. Вывести частоту повторения гласных букв русского алфавита в нем"
   ]
  },
  {
   "cell_type": "code",
   "execution_count": null,
   "metadata": {},
   "outputs": [],
   "source": [
    "text = \"\"\"\n",
    "Университет сегодня\n",
    "Сегодня Башкирский государственный университет — это:\n",
    "5 институтов, 10 факультетов, 4 филиала в городах Башкортостана (Стерлитамаке, Нефтекамске, Бирске и Сибае), 3 колледжа (в Уфе, Стерлитамаке и Бирске).\n",
    "27 500 студентов из 42 регионов России, более 1300 преподавателей.\n",
    "13 учебных корпусов, 7 общежитий, столовая, санаторий-профилакторий, спортивно-оздоровительный лагерь «Кульчум». Рядом с главным учебным корпусом ведется строительство первой очереди современного общежития с объектами соцкультбыта для размещения иногородних студентов.\n",
    "73 направления бакалавриата и специалитета, 34 направления магистратуры, 16 направлений и 55 направленностей аспирантуры, 16 направлений среднего профессионального образования, 140 программ дополнительного образования.\n",
    "Малая академия государственного управления Республики Башкортостан.\n",
    "21 общепризнанных научных школ.\n",
    "9 диссертационных советов.\n",
    "14 научно-образовательных центров.\n",
    "16 малых инновационных предприятий.\n",
    "9 научных журналов (два из них реферируются в международной базе данных Web of Science).\n",
    "76 зарубежных вузов-партнеров.\n",
    "800 иностранных студентов из 39 стран мира.\n",
    "15 программ включенного обучения и двойных дипломов.\n",
    "2 программы на английском языке.\n",
    "100 долгосрочных соглашений о сотрудничестве с организациями и предприятиями.\n",
    "20 базовых кафедр на площадках ведущих предприятий Башкортостана.\n",
    "20 творческих коллективов, 5 из которых имеют звание «Народный».\n",
    "Спортивные секции по 25 видам спорта.\n",
    "\"\"\""
   ]
  },
  {
   "cell_type": "code",
   "execution_count": 1,
   "metadata": {},
   "outputs": [],
   "source": [
    "# напишите решение"
   ]
  },
  {
   "cell_type": "markdown",
   "metadata": {},
   "source": [
    "## Функции"
   ]
  },
  {
   "cell_type": "code",
   "execution_count": null,
   "metadata": {},
   "outputs": [],
   "source": [
    "def sum_ab(a, b):\n",
    "    return a + b"
   ]
  },
  {
   "cell_type": "code",
   "execution_count": null,
   "metadata": {},
   "outputs": [],
   "source": [
    "sum_ab(2, 5)"
   ]
  },
  {
   "cell_type": "markdown",
   "metadata": {},
   "source": [
    "return - ключевое слово, которое возвращает вычисленное значение и выходит из функции. Если в функции нет return или return пустой, то функция возвращает None (ничего)."
   ]
  },
  {
   "cell_type": "code",
   "execution_count": null,
   "metadata": {},
   "outputs": [],
   "source": [
    "def print_sum(a, b): # Функция (возвращает None) и только печатает значение\n",
    "    print(a + b)"
   ]
  },
  {
   "cell_type": "code",
   "execution_count": null,
   "metadata": {},
   "outputs": [],
   "source": [
    "print(print_sum(3, 4))"
   ]
  },
  {
   "cell_type": "code",
   "execution_count": null,
   "metadata": {},
   "outputs": [],
   "source": [
    "def print_sum2(a, b): # Функция (возвращает None) до строки с print выполнение не доходит\n",
    "    return\n",
    "    print(a + b)"
   ]
  },
  {
   "cell_type": "code",
   "execution_count": null,
   "metadata": {},
   "outputs": [],
   "source": [
    "print(print_sum2(3, 4))"
   ]
  },
  {
   "cell_type": "markdown",
   "metadata": {},
   "source": [
    "Функция может не иметь аргументов"
   ]
  },
  {
   "cell_type": "code",
   "execution_count": null,
   "metadata": {},
   "outputs": [],
   "source": [
    "def print_hello():\n",
    "    print('Hello')"
   ]
  },
  {
   "cell_type": "code",
   "execution_count": null,
   "metadata": {},
   "outputs": [],
   "source": [
    "print_hello()"
   ]
  },
  {
   "cell_type": "markdown",
   "metadata": {},
   "source": [
    "Иметь необязательные аргументы со значениями по умолчанию"
   ]
  },
  {
   "cell_type": "code",
   "execution_count": null,
   "metadata": {},
   "outputs": [],
   "source": [
    "def prod(a, b, c = 3):\n",
    "    return a * b * c"
   ]
  },
  {
   "cell_type": "code",
   "execution_count": null,
   "metadata": {},
   "outputs": [],
   "source": [
    "prod(1, 2)"
   ]
  },
  {
   "cell_type": "code",
   "execution_count": null,
   "metadata": {},
   "outputs": [],
   "source": [
    "prod(1, 2, 5)"
   ]
  },
  {
   "cell_type": "markdown",
   "metadata": {},
   "source": [
    "Функции могут быть вложенными"
   ]
  },
  {
   "cell_type": "code",
   "execution_count": null,
   "metadata": {},
   "outputs": [],
   "source": [
    "def f(x, y, z):\n",
    "    \n",
    "    def add(a, b):\n",
    "        return a + b\n",
    "    \n",
    "    return add(x, y) * z"
   ]
  },
  {
   "cell_type": "code",
   "execution_count": null,
   "metadata": {},
   "outputs": [],
   "source": [
    "f(4,5,7)# 4,5,6 = > (4+5)*7"
   ]
  },
  {
   "cell_type": "markdown",
   "metadata": {},
   "source": [
    "**Функции могут принимать любые типы языка Pythоn и могут возвращать более одного значения. Для этого используются тип кортеж (tuple)**"
   ]
  },
  {
   "cell_type": "code",
   "execution_count": null,
   "metadata": {},
   "outputs": [],
   "source": [
    "def sum_and_prod(a, b):\n",
    "    return a + b, a * b  # возвращаем кортеж из двух элементов (a + b, a * b) скобки писать не обязательно"
   ]
  },
  {
   "cell_type": "code",
   "execution_count": null,
   "metadata": {},
   "outputs": [],
   "source": [
    "sum_and_prod(19, 6)"
   ]
  },
  {
   "cell_type": "markdown",
   "metadata": {},
   "source": [
    "### Анонимные lambda функции"
   ]
  },
  {
   "cell_type": "code",
   "execution_count": null,
   "metadata": {},
   "outputs": [],
   "source": [
    "square = lambda x: x**2"
   ]
  },
  {
   "cell_type": "code",
   "execution_count": null,
   "metadata": {},
   "outputs": [],
   "source": [
    "square(12)"
   ]
  },
  {
   "cell_type": "code",
   "execution_count": null,
   "metadata": {},
   "outputs": [],
   "source": [
    "sum_and_prod2 = lambda x, y: (x + y, x * y)"
   ]
  },
  {
   "cell_type": "code",
   "execution_count": null,
   "metadata": {},
   "outputs": [],
   "source": [
    "sum_and_prod2(19, 6)"
   ]
  },
  {
   "cell_type": "markdown",
   "metadata": {},
   "source": [
    "Можно не присваивать переменной"
   ]
  },
  {
   "cell_type": "code",
   "execution_count": null,
   "metadata": {},
   "outputs": [],
   "source": [
    "(lambda x, y: x / y)(4, 10)"
   ]
  },
  {
   "cell_type": "markdown",
   "metadata": {},
   "source": [
    "Часто используются как вспомогательные для функций sorted, sort, min, max и.т.д"
   ]
  },
  {
   "cell_type": "code",
   "execution_count": null,
   "metadata": {},
   "outputs": [],
   "source": [
    "a = [-3, -5, -7, -1, 30, 5, 0, 2]"
   ]
  },
  {
   "cell_type": "code",
   "execution_count": null,
   "metadata": {},
   "outputs": [],
   "source": [
    "sorted(a) # просто сортировка списка"
   ]
  },
  {
   "cell_type": "code",
   "execution_count": null,
   "metadata": {},
   "outputs": [],
   "source": [
    "sorted(a, key=lambda x: abs(x)) # сортировка списка по модулю (абсолютному значению)"
   ]
  },
  {
   "cell_type": "code",
   "execution_count": null,
   "metadata": {},
   "outputs": [],
   "source": [
    "min(a), min(a, key=lambda x: abs(x)) # минимум списка и минимум списка по модулю (абсолютному значению)"
   ]
  },
  {
   "cell_type": "markdown",
   "metadata": {},
   "source": [
    "В качестве примера рассмотрим функцию trapezoid_integrate - нахождение интеграла функции f(x) методом трапеций на интервале x=[a, b]. Функцию f(x) будем передавать в trapezoid_integrate как параметр. По сути это перевод Lazarus программы \n",
    "http://62.76.8.64/moodle/pluginfile.php/19466/mod_resource/content/2/Lab7.pdf"
   ]
  },
  {
   "cell_type": "code",
   "execution_count": null,
   "metadata": {},
   "outputs": [],
   "source": [
    "def trapezoid_integrate(f, a, b):\n",
    "    N = 200\n",
    "    h = (b - a) / N\n",
    "    x = a\n",
    "    S = 0\n",
    "    for i in range(1, N): # Сумма от 1 до N, а не N - 1, так как для range(a, b) суммирует от а до b-1.\n",
    "        x = x + h\n",
    "        S = S + f(x)\n",
    "    S = h*(0.5*(f(a)+f(b))+S)\n",
    "    return S"
   ]
  },
  {
   "cell_type": "code",
   "execution_count": null,
   "metadata": {},
   "outputs": [],
   "source": [
    "def f(x):\n",
    "    return 4.0 / (1.0 + x**2)"
   ]
  },
  {
   "cell_type": "code",
   "execution_count": null,
   "metadata": {},
   "outputs": [],
   "source": [
    "print(trapezoid_integrate(f, 0, 2)) # передаем f как параметр"
   ]
  },
  {
   "cell_type": "code",
   "execution_count": null,
   "metadata": {},
   "outputs": [],
   "source": [
    "print(trapezoid_integrate(lambda x: 4.0 / (1.0 + x**2), 0, 2))  # передаем f как lambda функцию"
   ]
  },
  {
   "cell_type": "markdown",
   "metadata": {},
   "source": [
    "## Файлы"
   ]
  },
  {
   "cell_type": "code",
   "execution_count": null,
   "metadata": {},
   "outputs": [],
   "source": [
    "Для открытия файлов используется функция open(file, mode). Где file - имя (путь до) файла, mode - режим открытия файла"
   ]
  },
  {
   "cell_type": "markdown",
   "metadata": {},
   "source": [
    "<tbody valign=\"top\"><tr><td>Режим</td><td>Обозначение</td></tr><tr><td>'r'</td><td>открытие на чтение (является значением по умолчанию).</td></tr><tr><td>'w'</td><td>открытие на запись, содержимое файла удаляется, если файла не существует, создается новый.</td></tr><tr><td>'x'</td><td>открытие на запись, если файла не существует, иначе исключение.</td></tr><tr><td>'a'</td><td>открытие на дозапись, информация добавляется в конец файла.</td></tr><tr><td>'b'</td><td>открытие в двоичном режиме.</td></tr><tr><td>'t'</td><td>открытие в текстовом режиме (является значением по умолчанию).</td></tr><tr><td>'+'</td><td>открытие на чтение и запись</td></tr></tbody>"
   ]
  },
  {
   "cell_type": "markdown",
   "metadata": {},
   "source": [
    "Если файл не лежит в той же директории, что и файл, то необходимо указать путь до файла. В пути необходимо экранировать знаки \\\\\n",
    "\n",
    "То есть например если путь <code>c:\\Users\\User\\Downloads\\text.txt</code>, то надо писать <code>c:\\\\\\Users\\\\\\User\\\\\\Downloads\\\\\\text.txt</code>"
   ]
  },
  {
   "cell_type": "markdown",
   "metadata": {},
   "source": [
    "Рекомендуемы способ открытия файла через менеджер контекста with .. as, который гарантировано закроет файл в случае ошибки например"
   ]
  },
  {
   "cell_type": "code",
   "execution_count": null,
   "metadata": {},
   "outputs": [],
   "source": [
    "with open('text.txt', 'rt', encoding='utf-8') as f: # rt - файл открыт для чтения, кодировка utf-8\n",
    "    text1 = f.readlines() # читаем в переменную text1 как массив строк"
   ]
  },
  {
   "cell_type": "code",
   "execution_count": null,
   "metadata": {},
   "outputs": [],
   "source": [
    "with open('text.txt', 'rt', encoding='utf-8') as f: # rt - файл открыт для чтения, кодировка utf-8\n",
    "    text2 = f.read() # читаем в переменную text2 как одну строку"
   ]
  },
  {
   "cell_type": "code",
   "execution_count": null,
   "metadata": {},
   "outputs": [],
   "source": [
    "text1"
   ]
  },
  {
   "cell_type": "code",
   "execution_count": null,
   "metadata": {},
   "outputs": [],
   "source": [
    "[t.strip() for t in text1] # убираем знак разделения строки /n "
   ]
  },
  {
   "cell_type": "code",
   "execution_count": null,
   "metadata": {},
   "outputs": [],
   "source": [
    "text2"
   ]
  },
  {
   "cell_type": "code",
   "execution_count": null,
   "metadata": {},
   "outputs": [],
   "source": [
    "text2.splitlines() # разделяем на отдельные строки"
   ]
  },
  {
   "cell_type": "markdown",
   "metadata": {},
   "source": [
    "### Добавление записи в файл"
   ]
  },
  {
   "cell_type": "code",
   "execution_count": null,
   "metadata": {},
   "outputs": [],
   "source": [
    "text3 = \"\"\"\n",
    "Flat is better than nested.\n",
    "Sparse is better than dense.\n",
    "Readability counts.\n",
    "\"\"\""
   ]
  },
  {
   "cell_type": "code",
   "execution_count": null,
   "metadata": {},
   "outputs": [],
   "source": [
    "text3"
   ]
  },
  {
   "cell_type": "code",
   "execution_count": null,
   "metadata": {},
   "outputs": [],
   "source": [
    "with open('text.txt', 'at', encoding='utf-8') as f: # at - файл открыт для дозаписи, кодировка utf-8 \n",
    "    f.writelines(text3)"
   ]
  },
  {
   "cell_type": "code",
   "execution_count": null,
   "metadata": {},
   "outputs": [],
   "source": [
    "with open('text.txt', 'rt', encoding='utf-8') as f: # rt - файл открыт для чтения, кодировка utf-8\n",
    "    text2 = f.read()\n",
    "text2.splitlines()"
   ]
  },
  {
   "cell_type": "markdown",
   "metadata": {},
   "source": [
    "### Перезапись в файл"
   ]
  },
  {
   "cell_type": "code",
   "execution_count": null,
   "metadata": {},
   "outputs": [],
   "source": [
    "with open('text.txt', 'wt', encoding='utf-8') as f: # wt - файл открыт для перезаписи, кодировка utf-8 \n",
    "    f.write('This is end!')"
   ]
  },
  {
   "cell_type": "code",
   "execution_count": null,
   "metadata": {},
   "outputs": [],
   "source": [
    "with open('text.txt', 'rt', encoding='utf-8') as f: # rt - файл открыт для чтения, кодировка utf-8\n",
    "    text2 = f.read()\n",
    "text2.splitlines()"
   ]
  },
  {
   "cell_type": "markdown",
   "metadata": {},
   "source": [
    "## Задача №2 \n",
    "\n",
    "Шифр простой замены. Написать 2 функции, которые шифруют и дешифруют текстовое сообщение, заменяя буквы русского алфавита на их положение. Например А-1, Б-2, В-3 (пробел = 0) и.т.д.\n",
    "Первая функция encode принимает текст s. Сообщение s приводится к ВЕРХНЕМУ РЕГИСТРУ. Все знаки кроме букв русского алфавита и пробелов убирает из текста и шифрует текст шифром простой замены. Результат - список целых чисел m от 0 до 33. Если символов нет - выдать пустой список.\n",
    "\n",
    "Вторая функция наоборот принимает этот список и выдает зашифрованный текст в ВЕРХНЕМ РЕГИСТРЕ. Если список пустой - выдать пустую строку ''."
   ]
  },
  {
   "cell_type": "code",
   "execution_count": 37,
   "metadata": {},
   "outputs": [],
   "source": [
    "def encode(s):\n",
    "    # напишите код\n",
    "    pass"
   ]
  },
  {
   "cell_type": "code",
   "execution_count": 38,
   "metadata": {},
   "outputs": [],
   "source": [
    "def decode(m):\n",
    "    # напишите код\n",
    "    pass"
   ]
  },
  {
   "cell_type": "code",
   "execution_count": 39,
   "metadata": {},
   "outputs": [
    {
     "ename": "AssertionError",
     "evalue": "",
     "output_type": "error",
     "traceback": [
      "\u001b[1;31m---------------------------------------------------------------------------\u001b[0m",
      "\u001b[1;31mAssertionError\u001b[0m                            Traceback (most recent call last)",
      "\u001b[1;32m<ipython-input-39-5166446cc71c>\u001b[0m in \u001b[0;36m<module>\u001b[1;34m\u001b[0m\n\u001b[1;32m----> 1\u001b[1;33m \u001b[1;32massert\u001b[0m \u001b[0mencode\u001b[0m\u001b[1;33m(\u001b[0m\u001b[1;34m\"\"\u001b[0m\u001b[1;33m)\u001b[0m \u001b[1;33m==\u001b[0m \u001b[1;33m[\u001b[0m\u001b[1;33m]\u001b[0m\u001b[1;33m\u001b[0m\u001b[1;33m\u001b[0m\u001b[0m\n\u001b[0m\u001b[0;32m      2\u001b[0m \u001b[1;32massert\u001b[0m \u001b[0mdecode\u001b[0m\u001b[1;33m(\u001b[0m\u001b[1;33m[\u001b[0m\u001b[1;33m]\u001b[0m\u001b[1;33m)\u001b[0m \u001b[1;33m==\u001b[0m \u001b[1;34m\"\"\u001b[0m\u001b[1;33m\u001b[0m\u001b[1;33m\u001b[0m\u001b[0m\n\u001b[0;32m      3\u001b[0m \u001b[1;32massert\u001b[0m \u001b[0mencode\u001b[0m\u001b[1;33m(\u001b[0m\u001b[1;34m\"абвг\"\u001b[0m\u001b[1;33m)\u001b[0m \u001b[1;33m==\u001b[0m \u001b[1;33m[\u001b[0m\u001b[1;36m1\u001b[0m\u001b[1;33m,\u001b[0m\u001b[1;36m2\u001b[0m\u001b[1;33m,\u001b[0m\u001b[1;36m3\u001b[0m\u001b[1;33m,\u001b[0m\u001b[1;36m4\u001b[0m\u001b[1;33m]\u001b[0m\u001b[1;33m\u001b[0m\u001b[1;33m\u001b[0m\u001b[0m\n\u001b[0;32m      4\u001b[0m \u001b[1;32massert\u001b[0m \u001b[0mdecode\u001b[0m\u001b[1;33m(\u001b[0m\u001b[1;33m[\u001b[0m\u001b[1;36m1\u001b[0m\u001b[1;33m,\u001b[0m\u001b[1;36m2\u001b[0m\u001b[1;33m,\u001b[0m\u001b[1;36m3\u001b[0m\u001b[1;33m,\u001b[0m\u001b[1;36m4\u001b[0m\u001b[1;33m]\u001b[0m\u001b[1;33m)\u001b[0m \u001b[1;33m==\u001b[0m \u001b[1;34m\"АБВГ\"\u001b[0m\u001b[1;33m\u001b[0m\u001b[1;33m\u001b[0m\u001b[0m\n\u001b[0;32m      5\u001b[0m \u001b[1;32massert\u001b[0m \u001b[0mencode\u001b[0m\u001b[1;33m(\u001b[0m\u001b[1;34m\"Привет, мир!\"\u001b[0m\u001b[1;33m)\u001b[0m \u001b[1;33m==\u001b[0m \u001b[1;33m[\u001b[0m\u001b[1;36m17\u001b[0m\u001b[1;33m,\u001b[0m \u001b[1;36m18\u001b[0m\u001b[1;33m,\u001b[0m \u001b[1;36m10\u001b[0m\u001b[1;33m,\u001b[0m \u001b[1;36m3\u001b[0m\u001b[1;33m,\u001b[0m \u001b[1;36m6\u001b[0m\u001b[1;33m,\u001b[0m \u001b[1;36m20\u001b[0m\u001b[1;33m,\u001b[0m \u001b[1;36m0\u001b[0m\u001b[1;33m,\u001b[0m \u001b[1;36m14\u001b[0m\u001b[1;33m,\u001b[0m \u001b[1;36m10\u001b[0m\u001b[1;33m,\u001b[0m \u001b[1;36m18\u001b[0m\u001b[1;33m]\u001b[0m\u001b[1;33m\u001b[0m\u001b[1;33m\u001b[0m\u001b[0m\n",
      "\u001b[1;31mAssertionError\u001b[0m: "
     ]
    }
   ],
   "source": [
    "assert encode(\"\") == []\n",
    "assert decode([]) == \"\"\n",
    "assert encode(\"абвг\") == [1,2,3,4]\n",
    "assert decode([1,2,3,4]) == \"АБВГ\"\n",
    "assert encode(\"Привет, мир!\") == [17, 18, 10, 3, 6, 20, 0, 14, 10, 18]\n",
    "assert decode([17, 18, 10, 3, 6, 20, 0, 14, 10, 18]) == 'ПРИВЕТ МИР'"
   ]
  },
  {
   "cell_type": "code",
   "execution_count": 41,
   "metadata": {},
   "outputs": [],
   "source": [
    "# Расшифруйте\n",
    "msg = [2, 1, 26, 4, 16, 19, 21, 15, 10, 3, 6, 18, 19, 10, 20, 6, 20, 0, 0, 31, 20, 16, 0, 0, 13, 6, 20, 0, 21, 17, 16, 18, 15, 16, 11, 0, 18, 1, 2, 16, 20, 29, 0, 20, 3, 16, 18, 25, 6, 19, 12, 16, 4, 16, 0, 17, 16, 10, 19, 12, 1, 0, 9, 1, 19, 13, 21, 8, 6, 15, 15, 16, 4, 16, 0, 17, 18, 10, 9, 15, 1, 15, 10, 33, 0, 9, 1, 0, 31, 20, 16, 20, 0, 17, 6, 18, 10, 16, 5, 0, 17, 16, 5, 4, 16, 20, 16, 3, 13, 6, 15, 16, 0, 0, 20, 29, 19, 33, 25, 0, 3, 29, 17, 21, 19, 12, 15, 10, 12, 16, 3, 0, 21, 19, 20, 1, 15, 16, 3, 13, 6, 15, 29, 0, 19, 3, 33, 9, 10, 0, 19, 0, 3, 6, 5, 21, 27, 10, 14, 10, 0, 3, 21, 9, 1, 14, 10, 0, 10, 0, 15, 1, 21, 25, 15, 29, 14, 10, 0, 24, 6, 15, 20, 18, 1, 14, 10, 0, 18, 16, 19, 19, 10, 10, 0, 10, 0, 14, 10, 18, 1, 0, 19, 16, 3, 6, 18, 26, 6, 15, 19, 20, 3, 21, 6, 20, 19, 33, 0, 14, 1, 20, 6, 18, 10, 1, 13, 30, 15, 16, 20, 6, 23, 15, 10, 25, 6, 19, 12, 1, 33, 0, 2, 1, 9, 1, 0, 17, 18, 16, 3, 16, 5, 33, 20, 19, 33, 0, 12, 18, 21, 17, 15, 29, 6, 0, 14, 6, 8, 5, 21, 15, 1, 18, 16, 5, 15, 29, 6, 0, 22, 16, 18, 21, 14, 29, 0, 9, 1, 5, 1, 25, 1, 0, 21, 15, 10, 3, 6, 18, 19, 10, 20, 6, 20, 1, 0, 0, 3, 16, 11, 20, 10, 0, 3, 0, 25, 10, 19, 13, 16, 0, 13, 10, 5, 6, 18, 16, 3, 0, 3, 0, 19, 22, 6, 18, 6, 0, 16, 2, 18, 1, 9, 16, 3, 1, 15, 10, 33, 0, 15, 1, 21, 12, 10, 0, 10, 0, 10, 15, 15, 16, 3, 1, 24, 10, 11, 0, 19, 18, 6, 5, 10, 0, 18, 16, 19, 19, 10, 11, 19, 12, 10, 23, 0, 3, 21, 9, 16, 3, 0, 21, 19, 17, 6, 26, 15, 16, 0, 10, 15, 20, 6, 4, 18, 10, 18, 16, 3, 1, 20, 30, 19, 33, 0, 3, 0, 14, 10, 18, 16, 3, 16, 6, 0, 16, 2, 18, 1, 9, 16, 3, 1, 20, 6, 13, 30, 15, 16, 6, 0, 17, 18, 16, 19, 20, 18, 1, 15, 19, 20, 3, 16, 0, 19, 16, 23, 18, 1, 15, 33, 33, 0, 13, 21, 25, 26, 10, 6, 0, 20, 18, 1, 5, 10, 24, 10, 10, 0, 16, 20, 6, 25, 6, 19, 20, 3, 6, 15, 15, 16, 11, 0, 19, 10, 19, 20, 6, 14, 29, 0, 16, 2, 18, 1, 9, 16, 3, 1, 15, 10, 33, 0, 1, 12, 20, 10, 3, 15, 16, 0, 21, 25, 1, 19, 20, 3, 16, 3, 1, 20, 30, 0, 3, 0, 19, 16, 24, 10, 1, 13, 30, 15, 16, 31, 12, 16, 15, 16, 14, 10, 25, 6, 19, 12, 16, 14, 0, 18, 1, 9, 3, 10, 20, 10, 10, 0, 18, 6, 4, 10, 16, 15, 1, 0, 10, 0, 19, 20, 18, 1, 15, 29]\n",
    "decode(msg)"
   ]
  },
  {
   "cell_type": "code",
   "execution_count": null,
   "metadata": {},
   "outputs": [],
   "source": []
  }
 ],
 "metadata": {
  "kernelspec": {
   "display_name": "Python 3",
   "language": "python",
   "name": "python3"
  },
  "language_info": {
   "codemirror_mode": {
    "name": "ipython",
    "version": 3
   },
   "file_extension": ".py",
   "mimetype": "text/x-python",
   "name": "python",
   "nbconvert_exporter": "python",
   "pygments_lexer": "ipython3",
   "version": "3.9.2"
  }
 },
 "nbformat": 4,
 "nbformat_minor": 4
}
