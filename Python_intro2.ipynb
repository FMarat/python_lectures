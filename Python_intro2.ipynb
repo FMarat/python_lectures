{
 "cells": [
  {
   "cell_type": "markdown",
   "metadata": {},
   "source": [
    "# Смотрите [первую часть](Python_intro1.ipynb)"
   ]
  },
  {
   "cell_type": "markdown",
   "metadata": {},
   "source": [
    "## Множества и словари"
   ]
  },
  {
   "cell_type": "markdown",
   "metadata": {},
   "source": [
    "### Множества"
   ]
  },
  {
   "cell_type": "markdown",
   "metadata": {},
   "source": [
    "Множества (set) - это особый тип данных, который содержит неповторяющиеся элементы."
   ]
  },
  {
   "cell_type": "code",
   "execution_count": null,
   "metadata": {},
   "outputs": [],
   "source": [
    "a = set() # Задание пустого множества"
   ]
  },
  {
   "cell_type": "code",
   "execution_count": null,
   "metadata": {},
   "outputs": [],
   "source": [
    "a.add(1) # добавляем четыре элемента (1,2,2,3) \n",
    "a.add(2)\n",
    "a.add(2)\n",
    "a.add(3)"
   ]
  },
  {
   "cell_type": "code",
   "execution_count": null,
   "metadata": {},
   "outputs": [],
   "source": [
    "a # В множестве три разных неповторяющихся элемента (1,2,3)"
   ]
  },
  {
   "cell_type": "code",
   "execution_count": null,
   "metadata": {},
   "outputs": [],
   "source": [
    "type(a), isinstance(a, set) # тип - множество"
   ]
  },
  {
   "cell_type": "markdown",
   "metadata": {},
   "source": [
    "В языке Python сушествуют удобные способы построения множеств из других типов (например списки, строки, кортежи и др.)"
   ]
  },
  {
   "cell_type": "code",
   "execution_count": null,
   "metadata": {},
   "outputs": [],
   "source": [
    "set([1, 2, 3]), set('Hello'), set((2, 3, 6, 2, 4)), set(range(0, 15, 3))"
   ]
  },
  {
   "cell_type": "markdown",
   "metadata": {},
   "source": [
    "Подобно генератором списков есть генераторы множеств. Пример ниже создает множество alphabet из символов строки, которые являются буквами алфавита (isalpha). Как видно, множество не сохраняет порядок элементов"
   ]
  },
  {
   "cell_type": "code",
   "execution_count": null,
   "metadata": {},
   "outputs": [],
   "source": [
    "alphabet = {c.upper() for c in 'Съешь же ещё этих мягких французских булок да выпей чаю'.lower() if c.isalpha()}\n",
    "print(alphabet)\n",
    "len(alphabet)"
   ]
  },
  {
   "cell_type": "code",
   "execution_count": null,
   "metadata": {},
   "outputs": [],
   "source": [
    "','.join(sorted(alphabet)) # отсортируем множество и объеденим его в строку, заметьте, что первая буква Ё (ord('Ё') < ord('А'))"
   ]
  },
  {
   "cell_type": "markdown",
   "metadata": {},
   "source": [
    "#### Операции над множествами"
   ]
  },
  {
   "cell_type": "code",
   "execution_count": null,
   "metadata": {},
   "outputs": [],
   "source": [
    "a = set(range(1,10))\n",
    "a"
   ]
  },
  {
   "cell_type": "code",
   "execution_count": null,
   "metadata": {},
   "outputs": [],
   "source": [
    "b = set(range(1, 15, 2))\n",
    "b"
   ]
  },
  {
   "cell_type": "markdown",
   "metadata": {},
   "source": [
    "Объединение"
   ]
  },
  {
   "cell_type": "code",
   "execution_count": null,
   "metadata": {},
   "outputs": [],
   "source": [
    "a | b "
   ]
  },
  {
   "cell_type": "code",
   "execution_count": null,
   "metadata": {},
   "outputs": [],
   "source": [
    " a.union(b) # другая форма записи"
   ]
  },
  {
   "cell_type": "markdown",
   "metadata": {},
   "source": [
    "Пересечение (Общие элементы и в первом и во втором множестве)"
   ]
  },
  {
   "cell_type": "code",
   "execution_count": null,
   "metadata": {},
   "outputs": [],
   "source": [
    "a & b"
   ]
  },
  {
   "cell_type": "code",
   "execution_count": null,
   "metadata": {},
   "outputs": [],
   "source": [
    " a.intersection(b) # другая форма записи"
   ]
  },
  {
   "cell_type": "markdown",
   "metadata": {},
   "source": [
    "Разность множеств"
   ]
  },
  {
   "cell_type": "code",
   "execution_count": null,
   "metadata": {},
   "outputs": [],
   "source": [
    "a - b # элементы первого множества минус элементы второго"
   ]
  },
  {
   "cell_type": "code",
   "execution_count": null,
   "metadata": {},
   "outputs": [],
   "source": [
    "b - a # элементы второго множества минус элементы первого"
   ]
  },
  {
   "cell_type": "code",
   "execution_count": null,
   "metadata": {},
   "outputs": [],
   "source": [
    "a.difference(b) # другая форма записи"
   ]
  },
  {
   "cell_type": "markdown",
   "metadata": {},
   "source": [
    "Симметрическая разность (элементы, входящие в <code>a</code> или в <code>b</code>, но не в оба из них одновременно).\n",
    "</div>"
   ]
  },
  {
   "cell_type": "code",
   "execution_count": null,
   "metadata": {},
   "outputs": [],
   "source": [
    "a ^ b"
   ]
  },
  {
   "cell_type": "markdown",
   "metadata": {},
   "source": [
    "Подмножества"
   ]
  },
  {
   "cell_type": "code",
   "execution_count": null,
   "metadata": {},
   "outputs": [],
   "source": [
    "a.issubset(b) # возвращает true если a - подмножество b"
   ]
  },
  {
   "cell_type": "code",
   "execution_count": null,
   "metadata": {},
   "outputs": [],
   "source": [
    "a.issuperset(b) # возвращает true если b - подмножество a"
   ]
  },
  {
   "cell_type": "code",
   "execution_count": null,
   "metadata": {},
   "outputs": [],
   "source": [
    "set([11, 13]).issubset(b)"
   ]
  },
  {
   "cell_type": "code",
   "execution_count": null,
   "metadata": {},
   "outputs": [],
   "source": [
    "b.issuperset(set([13]))"
   ]
  },
  {
   "cell_type": "markdown",
   "metadata": {},
   "source": [
    "Проверка элемента на вхождение в множество in. \n",
    "Операция проверки выполняется очень быстро, поэтому часто множества используется вместо списков и кортежей, когда надо быстро проверить есть ли такой элемент. "
   ]
  },
  {
   "cell_type": "code",
   "execution_count": null,
   "metadata": {},
   "outputs": [],
   "source": [
    "13 in b"
   ]
  },
  {
   "cell_type": "code",
   "execution_count": null,
   "metadata": {},
   "outputs": [],
   "source": [
    "if 13 in b:\n",
    "    print('Число 13 есть в b')"
   ]
  },
  {
   "cell_type": "markdown",
   "metadata": {},
   "source": [
    "### Словари"
   ]
  },
  {
   "cell_type": "markdown",
   "metadata": {},
   "source": [
    "Словари (dict) - это неупорядоченная коллекция объектов (значений, value), в которых данные сохраняются и извлекаются по ключу (key)"
   ]
  },
  {
   "cell_type": "code",
   "execution_count": null,
   "metadata": {},
   "outputs": [],
   "source": [
    "d = {} # пустой словарь"
   ]
  },
  {
   "cell_type": "code",
   "execution_count": null,
   "metadata": {},
   "outputs": [],
   "source": [
    "d = {'name':'Артем', 'age': 22} # словарь из двух элементов "
   ]
  },
  {
   "cell_type": "markdown",
   "metadata": {},
   "source": [
    "По ключу (key) 'name' хранится значение (value) 'Артем'"
   ]
  },
  {
   "cell_type": "code",
   "execution_count": null,
   "metadata": {},
   "outputs": [],
   "source": [
    "d['name'] # доступ к данных по ключу"
   ]
  },
  {
   "cell_type": "code",
   "execution_count": null,
   "metadata": {},
   "outputs": [],
   "source": [
    "d['age'] # доступ к данных по ключу"
   ]
  },
  {
   "cell_type": "code",
   "execution_count": null,
   "metadata": {},
   "outputs": [],
   "source": [
    "d.keys() # Ключи словаря"
   ]
  },
  {
   "cell_type": "code",
   "execution_count": null,
   "metadata": {},
   "outputs": [],
   "source": [
    "d.values() # Значения словаря"
   ]
  },
  {
   "cell_type": "markdown",
   "metadata": {},
   "source": [
    "Итерация по ключам словаря"
   ]
  },
  {
   "cell_type": "code",
   "execution_count": null,
   "metadata": {},
   "outputs": [],
   "source": [
    "for k in d.keys():\n",
    "    print('Ключ', k)"
   ]
  },
  {
   "cell_type": "markdown",
   "metadata": {},
   "source": [
    "Итерация по значениям словаря"
   ]
  },
  {
   "cell_type": "code",
   "execution_count": null,
   "metadata": {},
   "outputs": [],
   "source": [
    "for k in d.values():\n",
    "    print('Значение', k)"
   ]
  },
  {
   "cell_type": "markdown",
   "metadata": {},
   "source": [
    "Наиболее часто используют итерацию по словарю (по ключам и значениям). В цикле for k,v - это кортеж"
   ]
  },
  {
   "cell_type": "code",
   "execution_count": null,
   "metadata": {},
   "outputs": [],
   "source": [
    "for k, v in d.items():\n",
    "    print('У ключа', k, 'значение:', v)"
   ]
  },
  {
   "cell_type": "code",
   "execution_count": null,
   "metadata": {},
   "outputs": [],
   "source": [
    "d.items() # это список из кортежей ключ, значение"
   ]
  },
  {
   "cell_type": "markdown",
   "metadata": {},
   "source": [
    "Если элемента в словаре нет возникает Исключение (ошибка)"
   ]
  },
  {
   "cell_type": "code",
   "execution_count": null,
   "metadata": {},
   "outputs": [],
   "source": [
    "d['second_name']"
   ]
  },
  {
   "cell_type": "markdown",
   "metadata": {},
   "source": [
    "Чтобы не возникало ошибок используется метод get, который в случае отсутствия ключа выдает значение по-умолчанию (в данном примере - пустая строка)"
   ]
  },
  {
   "cell_type": "code",
   "execution_count": null,
   "metadata": {},
   "outputs": [],
   "source": [
    "d.get('second_name','')"
   ]
  },
  {
   "cell_type": "code",
   "execution_count": null,
   "metadata": {},
   "outputs": [],
   "source": [
    "if d.get('second_name', '')=='':\n",
    "    print('У пользователя {} фамилия не задана'.format(d['name']))"
   ]
  },
  {
   "cell_type": "code",
   "execution_count": null,
   "metadata": {},
   "outputs": [],
   "source": [
    "d['age'] = 34 # изменение элемента по ключу\n",
    "d"
   ]
  },
  {
   "cell_type": "code",
   "execution_count": null,
   "metadata": {},
   "outputs": [],
   "source": [
    "del d['age'] # удаление значения по ключу"
   ]
  },
  {
   "cell_type": "code",
   "execution_count": null,
   "metadata": {},
   "outputs": [],
   "source": [
    "d"
   ]
  },
  {
   "cell_type": "code",
   "execution_count": null,
   "metadata": {},
   "outputs": [],
   "source": [
    "d.clear() # очистка словаря\n",
    "d"
   ]
  },
  {
   "cell_type": "markdown",
   "metadata": {},
   "source": [
    "Также как и для списков, кортежей и множеств существуют генераторы словарей"
   ]
  },
  {
   "cell_type": "code",
   "execution_count": null,
   "metadata": {},
   "outputs": [],
   "source": [
    "squares = {i: i**2 for i in range(0,1001)} # таблица квадратов всех чисел до 1000"
   ]
  },
  {
   "cell_type": "code",
   "execution_count": null,
   "metadata": {},
   "outputs": [],
   "source": [
    "squares[134]"
   ]
  },
  {
   "cell_type": "markdown",
   "metadata": {},
   "source": [
    "**Задача**\n",
    "\n",
    "Дан текст. Вывести частоту повторения гласных букв русского алфавита в нем"
   ]
  },
  {
   "cell_type": "code",
   "execution_count": null,
   "metadata": {},
   "outputs": [],
   "source": [
    "text = \"\"\"\n",
    "Университет сегодня\n",
    "Сегодня Башкирский государственный университет — это:\n",
    "5 институтов, 10 факультетов, 4 филиала в городах Башкортостана (Стерлитамаке, Нефтекамске, Бирске и Сибае), 3 колледжа (в Уфе, Стерлитамаке и Бирске).\n",
    "27 500 студентов из 42 регионов России, более 1300 преподавателей.\n",
    "13 учебных корпусов, 7 общежитий, столовая, санаторий-профилакторий, спортивно-оздоровительный лагерь «Кульчум». Рядом с главным учебным корпусом ведется строительство первой очереди современного общежития с объектами соцкультбыта для размещения иногородних студентов.\n",
    "73 направления бакалавриата и специалитета, 34 направления магистратуры, 16 направлений и 55 направленностей аспирантуры, 16 направлений среднего профессионального образования, 140 программ дополнительного образования.\n",
    "Малая академия государственного управления Республики Башкортостан.\n",
    "21 общепризнанных научных школ.\n",
    "9 диссертационных советов.\n",
    "14 научно-образовательных центров.\n",
    "16 малых инновационных предприятий.\n",
    "9 научных журналов (два из них реферируются в международной базе данных Web of Science).\n",
    "76 зарубежных вузов-партнеров.\n",
    "800 иностранных студентов из 39 стран мира.\n",
    "15 программ включенного обучения и двойных дипломов.\n",
    "2 программы на английском языке.\n",
    "100 долгосрочных соглашений о сотрудничестве с организациями и предприятиями.\n",
    "20 базовых кафедр на площадках ведущих предприятий Башкортостана.\n",
    "20 творческих коллективов, 5 из которых имеют звание «Народный».\n",
    "Спортивные секции по 25 видам спорта.\n",
    "\"\"\""
   ]
  },
  {
   "cell_type": "code",
   "execution_count": null,
   "metadata": {},
   "outputs": [],
   "source": [
    "d = {}\n",
    "for c in text.lower():\n",
    "    if c not in 'аеиоуыэюя':\n",
    "        continue\n",
    "    if c in d:\n",
    "        d[c] += 1\n",
    "    else:\n",
    "        d[c] = 1\n",
    "for c in 'аеиоуыэюя':\n",
    "    print('Буква {} встречается в тексте {} раз'.format(c, d[c]))"
   ]
  },
  {
   "cell_type": "markdown",
   "metadata": {},
   "source": [
    "## Функции"
   ]
  },
  {
   "cell_type": "code",
   "execution_count": null,
   "metadata": {},
   "outputs": [],
   "source": [
    "def sum_ab(a, b):\n",
    "    return a + b"
   ]
  },
  {
   "cell_type": "code",
   "execution_count": null,
   "metadata": {},
   "outputs": [],
   "source": [
    "sum_ab(2, 5)"
   ]
  },
  {
   "cell_type": "markdown",
   "metadata": {},
   "source": [
    "return - ключевое слово, которое возвращает вычисленное значение и выходит из функции. Если в функции нет return или return пустой, то функция возвращает None (ничего)."
   ]
  },
  {
   "cell_type": "code",
   "execution_count": null,
   "metadata": {},
   "outputs": [],
   "source": [
    "def print_sum(a, b): # Функция (возвращает None) и только печатает значение\n",
    "    print(a + b)"
   ]
  },
  {
   "cell_type": "code",
   "execution_count": null,
   "metadata": {},
   "outputs": [],
   "source": [
    "print(print_sum(3, 4))"
   ]
  },
  {
   "cell_type": "code",
   "execution_count": null,
   "metadata": {},
   "outputs": [],
   "source": [
    "def print_sum2(a, b): # Функция (возвращает None) до строки с print выполнение не доходит\n",
    "    return\n",
    "    print(a + b)"
   ]
  },
  {
   "cell_type": "code",
   "execution_count": null,
   "metadata": {},
   "outputs": [],
   "source": [
    "print(print_sum2(3, 4))"
   ]
  },
  {
   "cell_type": "markdown",
   "metadata": {},
   "source": [
    "Функция может не иметь аргументов"
   ]
  },
  {
   "cell_type": "code",
   "execution_count": null,
   "metadata": {},
   "outputs": [],
   "source": [
    "def print_hello():\n",
    "    print('Hello')"
   ]
  },
  {
   "cell_type": "code",
   "execution_count": null,
   "metadata": {},
   "outputs": [],
   "source": [
    "print_hello()"
   ]
  },
  {
   "cell_type": "markdown",
   "metadata": {},
   "source": [
    "Иметь необязательные аргументы со значениями по умолчанию"
   ]
  },
  {
   "cell_type": "code",
   "execution_count": null,
   "metadata": {},
   "outputs": [],
   "source": [
    "def prod(a, b, c = 3):\n",
    "    return a * b * c"
   ]
  },
  {
   "cell_type": "code",
   "execution_count": null,
   "metadata": {},
   "outputs": [],
   "source": [
    "prod(1, 2)"
   ]
  },
  {
   "cell_type": "code",
   "execution_count": null,
   "metadata": {},
   "outputs": [],
   "source": [
    "prod(1, 2, 5)"
   ]
  },
  {
   "cell_type": "markdown",
   "metadata": {},
   "source": [
    "Функции могут быть вложенными"
   ]
  },
  {
   "cell_type": "code",
   "execution_count": null,
   "metadata": {},
   "outputs": [],
   "source": [
    "def f(x, y, z):\n",
    "    \n",
    "    def add(a, b):\n",
    "        return a + b\n",
    "    \n",
    "    return add(x, y) * z"
   ]
  },
  {
   "cell_type": "code",
   "execution_count": null,
   "metadata": {},
   "outputs": [],
   "source": [
    "f(4,5,7)# 4,5,6 = > (4+5)*7"
   ]
  },
  {
   "cell_type": "markdown",
   "metadata": {},
   "source": [
    "**Функции могут принимать любые типы языка Pythоn и могут возвращать более одного значения. Для этого используются тип кортеж (tuple)**"
   ]
  },
  {
   "cell_type": "code",
   "execution_count": null,
   "metadata": {},
   "outputs": [],
   "source": [
    "def sum_and_prod(a, b):\n",
    "    return a + b, a * b  # возвращаем кортеж из двух элементов (a + b, a * b) скобки писать не обязательно"
   ]
  },
  {
   "cell_type": "code",
   "execution_count": null,
   "metadata": {},
   "outputs": [],
   "source": [
    "sum_and_prod(19, 6)"
   ]
  },
  {
   "cell_type": "markdown",
   "metadata": {},
   "source": [
    "### Анонимные lambda функции"
   ]
  },
  {
   "cell_type": "code",
   "execution_count": null,
   "metadata": {},
   "outputs": [],
   "source": [
    "square = lambda x: x**2"
   ]
  },
  {
   "cell_type": "code",
   "execution_count": null,
   "metadata": {},
   "outputs": [],
   "source": [
    "square(12)"
   ]
  },
  {
   "cell_type": "code",
   "execution_count": null,
   "metadata": {},
   "outputs": [],
   "source": [
    "sum_and_prod2 = lambda x, y: (x + y, x * y)"
   ]
  },
  {
   "cell_type": "code",
   "execution_count": null,
   "metadata": {},
   "outputs": [],
   "source": [
    "sum_and_prod2(19, 6)"
   ]
  },
  {
   "cell_type": "markdown",
   "metadata": {},
   "source": [
    "Можно не присваивать переменной"
   ]
  },
  {
   "cell_type": "code",
   "execution_count": null,
   "metadata": {},
   "outputs": [],
   "source": [
    "(lambda x, y: x / y)(4, 10)"
   ]
  },
  {
   "cell_type": "markdown",
   "metadata": {},
   "source": [
    "Часто используются как вспомогательные для функций sorted, sort, min, max и.т.д"
   ]
  },
  {
   "cell_type": "code",
   "execution_count": null,
   "metadata": {},
   "outputs": [],
   "source": [
    "a = [-3, -5, -7, -1, 30, 5, 0, 2]"
   ]
  },
  {
   "cell_type": "code",
   "execution_count": null,
   "metadata": {},
   "outputs": [],
   "source": [
    "sorted(a) # просто сортировка списка"
   ]
  },
  {
   "cell_type": "code",
   "execution_count": null,
   "metadata": {},
   "outputs": [],
   "source": [
    "sorted(a, key=lambda x: abs(x)) # сортировка списка по модулю (абсолютному значению)"
   ]
  },
  {
   "cell_type": "code",
   "execution_count": null,
   "metadata": {},
   "outputs": [],
   "source": [
    "min(a), min(a, key=lambda x: abs(x)) # минимум списка и минимум списка по модулю (абсолютному значению)"
   ]
  },
  {
   "cell_type": "markdown",
   "metadata": {},
   "source": [
    "## Файлы"
   ]
  },
  {
   "cell_type": "code",
   "execution_count": null,
   "metadata": {},
   "outputs": [],
   "source": [
    "Для открытия файлов используется функция open(file, mode). Где file - имя (путь до) файла, mode - режим открытия файла"
   ]
  },
  {
   "cell_type": "markdown",
   "metadata": {},
   "source": [
    "<tbody valign=\"top\"><tr><td>Режим</td><td>Обозначение</td></tr><tr><td>'r'</td><td>открытие на чтение (является значением по умолчанию).</td></tr><tr><td>'w'</td><td>открытие на запись, содержимое файла удаляется, если файла не существует, создается новый.</td></tr><tr><td>'x'</td><td>открытие на запись, если файла не существует, иначе исключение.</td></tr><tr><td>'a'</td><td>открытие на дозапись, информация добавляется в конец файла.</td></tr><tr><td>'b'</td><td>открытие в двоичном режиме.</td></tr><tr><td>'t'</td><td>открытие в текстовом режиме (является значением по умолчанию).</td></tr><tr><td>'+'</td><td>открытие на чтение и запись</td></tr></tbody>"
   ]
  },
  {
   "cell_type": "markdown",
   "metadata": {},
   "source": [
    "Если файл не лежит в той же директории, что и файл, то необходимо указать путь до файла. В пути необходимо экранировать знаки \\\\\n",
    "\n",
    "То есть например если путь <code>c:\\Users\\User\\Downloads\\text.txt</code>, то надо писать <code>c:\\\\\\Users\\\\\\User\\\\\\Downloads\\\\\\text.txt</code>"
   ]
  },
  {
   "cell_type": "markdown",
   "metadata": {},
   "source": [
    "Рекомендуемы способ открытия файла через менеджер контекста with .. as, который гарантировано закроет файл в случае ошибки например"
   ]
  },
  {
   "cell_type": "code",
   "execution_count": null,
   "metadata": {},
   "outputs": [],
   "source": [
    "with open('text.txt', 'rt', encoding='utf-8') as f: # rt - файл открыт для чтения, кодировка utf-8\n",
    "    text1 = f.readlines() # читаем в переменную text1 как массив строк"
   ]
  },
  {
   "cell_type": "code",
   "execution_count": null,
   "metadata": {},
   "outputs": [],
   "source": [
    "with open('text.txt', 'rt', encoding='utf-8') as f: # rt - файл открыт для чтения, кодировка utf-8\n",
    "    text2 = f.read() # читаем в переменную text2 как одну строку"
   ]
  },
  {
   "cell_type": "code",
   "execution_count": null,
   "metadata": {},
   "outputs": [],
   "source": [
    "text1"
   ]
  },
  {
   "cell_type": "code",
   "execution_count": null,
   "metadata": {},
   "outputs": [],
   "source": [
    "[t.strip() for t in text1] # убираем знак разделения строки /n "
   ]
  },
  {
   "cell_type": "code",
   "execution_count": null,
   "metadata": {},
   "outputs": [],
   "source": [
    "text2"
   ]
  },
  {
   "cell_type": "code",
   "execution_count": null,
   "metadata": {},
   "outputs": [],
   "source": [
    "text2.splitlines() # разделяем на отдельные строки"
   ]
  },
  {
   "cell_type": "markdown",
   "metadata": {},
   "source": [
    "### Добавление записи в файл"
   ]
  },
  {
   "cell_type": "code",
   "execution_count": null,
   "metadata": {},
   "outputs": [],
   "source": [
    "text3 = \"\"\"\n",
    "Flat is better than nested.\n",
    "Sparse is better than dense.\n",
    "Readability counts.\n",
    "\"\"\""
   ]
  },
  {
   "cell_type": "code",
   "execution_count": null,
   "metadata": {},
   "outputs": [],
   "source": [
    "text3"
   ]
  },
  {
   "cell_type": "code",
   "execution_count": null,
   "metadata": {},
   "outputs": [],
   "source": [
    "with open('text.txt', 'at', encoding='utf-8') as f: # at - файл открыт для дозаписи, кодировка utf-8 \n",
    "    f.writelines(text3)"
   ]
  },
  {
   "cell_type": "code",
   "execution_count": null,
   "metadata": {},
   "outputs": [],
   "source": [
    "with open('text.txt', 'rt', encoding='utf-8') as f: # rt - файл открыт для чтения, кодировка utf-8\n",
    "    text2 = f.read()\n",
    "text2.splitlines()"
   ]
  },
  {
   "cell_type": "markdown",
   "metadata": {},
   "source": [
    "### Перезапись в файл"
   ]
  },
  {
   "cell_type": "code",
   "execution_count": null,
   "metadata": {},
   "outputs": [],
   "source": [
    "with open('text.txt', 'wt', encoding='utf-8') as f: # wt - файл открыт для перезаписи, кодировка utf-8 \n",
    "    f.write('This is end!')"
   ]
  },
  {
   "cell_type": "code",
   "execution_count": null,
   "metadata": {},
   "outputs": [],
   "source": [
    "with open('text.txt', 'rt', encoding='utf-8') as f: # rt - файл открыт для чтения, кодировка utf-8\n",
    "    text2 = f.read()\n",
    "text2.splitlines()"
   ]
  },
  {
   "cell_type": "code",
   "execution_count": null,
   "metadata": {},
   "outputs": [],
   "source": []
  }
 ],
 "metadata": {
  "kernelspec": {
   "display_name": "Python 3",
   "language": "python",
   "name": "python3"
  },
  "language_info": {
   "codemirror_mode": {
    "name": "ipython",
    "version": 3
   },
   "file_extension": ".py",
   "mimetype": "text/x-python",
   "name": "python",
   "nbconvert_exporter": "python",
   "pygments_lexer": "ipython3",
   "version": "3.8.3rc1"
  }
 },
 "nbformat": 4,
 "nbformat_minor": 4
}
