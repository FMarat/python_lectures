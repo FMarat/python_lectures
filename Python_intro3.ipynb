{
 "cells": [
  {
   "cell_type": "markdown",
   "id": "spatial-consultancy",
   "metadata": {},
   "source": [
    "# Смотрите [вторую часть](Python_intro2.ipynb)"
   ]
  },
  {
   "cell_type": "markdown",
   "id": "comfortable-necklace",
   "metadata": {},
   "source": [
    "## Обработка исключений"
   ]
  },
  {
   "cell_type": "markdown",
   "id": "proper-commission",
   "metadata": {},
   "source": [
    "Для того, чтобы ваша программа не завершала аварийно работу при каждой ошибке в Python существует обработка исключений.<br>Они позволяют программе выполнять какие-либо действия при ошибках. Например сообщать программисту или пользователю программы об ошибке, записывать сообщения о ошибках в лог файлы и.т.д.<br>\n",
    "Наиболее часто ошибки возникают при вводе данных в программу, чтении и записи файлов."
   ]
  },
  {
   "cell_type": "markdown",
   "id": "documentary-checklist",
   "metadata": {},
   "source": [
    "Рассмотрим ошибку деления на 0."
   ]
  },
  {
   "cell_type": "code",
   "execution_count": 7,
   "id": "australian-article",
   "metadata": {},
   "outputs": [
    {
     "ename": "ZeroDivisionError",
     "evalue": "division by zero",
     "output_type": "error",
     "traceback": [
      "\u001b[1;31m---------------------------------------------------------------------------\u001b[0m",
      "\u001b[1;31mZeroDivisionError\u001b[0m                         Traceback (most recent call last)",
      "\u001b[1;32m<ipython-input-7-917dfc7b0d66>\u001b[0m in \u001b[0;36m<module>\u001b[1;34m\u001b[0m\n\u001b[0;32m      1\u001b[0m \u001b[0ma\u001b[0m \u001b[1;33m=\u001b[0m \u001b[1;36m1\u001b[0m\u001b[1;33m\u001b[0m\u001b[1;33m\u001b[0m\u001b[0m\n\u001b[0;32m      2\u001b[0m \u001b[0mb\u001b[0m \u001b[1;33m=\u001b[0m \u001b[1;36m0\u001b[0m\u001b[1;33m\u001b[0m\u001b[1;33m\u001b[0m\u001b[0m\n\u001b[1;32m----> 3\u001b[1;33m \u001b[0ma\u001b[0m \u001b[1;33m/\u001b[0m \u001b[0mb\u001b[0m\u001b[1;33m\u001b[0m\u001b[1;33m\u001b[0m\u001b[0m\n\u001b[0m",
      "\u001b[1;31mZeroDivisionError\u001b[0m: division by zero"
     ]
    }
   ],
   "source": [
    "a = 1\n",
    "b = 0\n",
    "a / b"
   ]
  },
  {
   "cell_type": "markdown",
   "id": "terminal-construction",
   "metadata": {},
   "source": [
    "ZeroDivisionError - название исключения, а 'division by zero' - краткое описание ошибки.<br>"
   ]
  },
  {
   "cell_type": "markdown",
   "id": "realistic-dakota",
   "metadata": {},
   "source": [
    "Для обработки исключений в Python существует конструкция try ... except Exception.<br> \n",
    "Если в программе между блоком try except возникает исключение Exception, то в программе выполняется то, что после блока except"
   ]
  },
  {
   "cell_type": "code",
   "execution_count": 17,
   "id": "worldwide-deviation",
   "metadata": {},
   "outputs": [
    {
     "name": "stdout",
     "output_type": "stream",
     "text": [
      "На 0 делить нельзя!\n"
     ]
    }
   ],
   "source": [
    "try:\n",
    "    print(a / b)\n",
    "except ZeroDivisionError:\n",
    "    print('На 0 делить нельзя!')"
   ]
  },
  {
   "cell_type": "markdown",
   "id": "valid-electricity",
   "metadata": {},
   "source": [
    "TypeError - операция применена к объекту несоответствующего типа."
   ]
  },
  {
   "cell_type": "code",
   "execution_count": 16,
   "id": "responsible-plaza",
   "metadata": {},
   "outputs": [
    {
     "name": "stdout",
     "output_type": "stream",
     "text": [
      "Нельзя прибавлять целые числа и строки!\n"
     ]
    }
   ],
   "source": [
    "try:\n",
    "    print(5 + \"sdf\")\n",
    "except TypeError:\n",
    "    print('Нельзя прибавлять целые числа и строки!')"
   ]
  },
  {
   "cell_type": "markdown",
   "id": "quick-programmer",
   "metadata": {},
   "source": [
    "ValueError - функция получает аргумент правильного типа, но некорректного значения."
   ]
  },
  {
   "cell_type": "code",
   "execution_count": 23,
   "id": "atomic-cambodia",
   "metadata": {},
   "outputs": [
    {
     "name": "stdout",
     "output_type": "stream",
     "text": [
      "Пожалуйста введите число:6\n",
      "квадрат числа равен 36\n"
     ]
    }
   ],
   "source": [
    "try:\n",
    "    x = int(input(\"Пожалуйста введите число:\"))\n",
    "    print(\"квадрат числа равен\", x**2)\n",
    "except ValueError:\n",
    "    print(\"Вводите только целые числа\")"
   ]
  },
  {
   "cell_type": "markdown",
   "id": "pediatric-carrier",
   "metadata": {},
   "source": [
    "FileNotFoundError - файл или директория не существует."
   ]
  },
  {
   "cell_type": "code",
   "execution_count": 25,
   "id": "persistent-attachment",
   "metadata": {},
   "outputs": [
    {
     "name": "stdout",
     "output_type": "stream",
     "text": [
      "Файл 1.txt не существует\n"
     ]
    }
   ],
   "source": [
    "try:\n",
    "    f = open('1.txt','rt')\n",
    "except FileNotFoundError:\n",
    "    print(\"Файл 1.txt не существует\")"
   ]
  },
  {
   "cell_type": "markdown",
   "id": "involved-easter",
   "metadata": {},
   "source": [
    "Исключений огромное [количество](https://docs.python.org/3/library/exceptions.html). Есть возможность перехватывать любое исключение задавая Exception, как показано ниже, но рекомендуют всегда задавать конкретные искдючения (например ValueError, FileNotFoundError)."
   ]
  },
  {
   "cell_type": "code",
   "execution_count": 32,
   "id": "orange-modem",
   "metadata": {},
   "outputs": [
    {
     "name": "stdout",
     "output_type": "stream",
     "text": [
      "Возникла ошибка [Errno 2] No such file or directory: '1.txt' \n",
      "Файл 1.txt не существует\n"
     ]
    }
   ],
   "source": [
    "try:\n",
    "    f = open('1.txt','rt')\n",
    "except Exception as e:\n",
    "    print(\"Возникла ошибка\",e,\"\\nФайл 1.txt не существует\")"
   ]
  },
  {
   "cell_type": "markdown",
   "id": "tough-tracy",
   "metadata": {},
   "source": [
    "## Модули Python, встроенный модуль random"
   ]
  },
  {
   "cell_type": "markdown",
   "id": "available-trial",
   "metadata": {},
   "source": [
    "Модули Python это файл с кодом программы, который вы импортируете в свою программу и можете в дальнейшем использовать его функции, классы и методы. Для подключения модулей используется в основном два типа синтаксиса \n",
    "<ul> \n",
    "    <li>import имя_модуля, from </li>\n",
    "    <li>from имя_модуля import функция</li>\n",
    "</ul>\n",
    "В первом случае в вашей программе для обращения к функции модуля необходимо писать имя функции через точку таким образом <p>имя_модуля.функция</p>"
   ]
  },
  {
   "cell_type": "code",
   "execution_count": 105,
   "id": "unlikely-particle",
   "metadata": {},
   "outputs": [],
   "source": [
    "import random"
   ]
  },
  {
   "cell_type": "code",
   "execution_count": 133,
   "id": "empirical-check",
   "metadata": {},
   "outputs": [
    {
     "data": {
      "text/plain": [
       "0.8714635645495539"
      ]
     },
     "execution_count": 133,
     "metadata": {},
     "output_type": "execute_result"
    }
   ],
   "source": [
    "random.random() # случайное число от 0 до 1."
   ]
  },
  {
   "cell_type": "code",
   "execution_count": 138,
   "id": "recorded-subject",
   "metadata": {},
   "outputs": [
    {
     "data": {
      "text/plain": [
       "3.238829772710247"
      ]
     },
     "execution_count": 138,
     "metadata": {},
     "output_type": "execute_result"
    }
   ],
   "source": [
    "random.uniform(2, 5) # случайное число с плавающей точкой, A ≤ N ≤ B (A=2, B=5)"
   ]
  },
  {
   "cell_type": "code",
   "execution_count": 134,
   "id": "undefined-tender",
   "metadata": {},
   "outputs": [
    {
     "data": {
      "text/plain": [
       "4"
      ]
     },
     "execution_count": 134,
     "metadata": {},
     "output_type": "execute_result"
    }
   ],
   "source": [
    "random.choice([1,2,3,4,5]) # Случайный выбор из последовательности"
   ]
  },
  {
   "cell_type": "code",
   "execution_count": 135,
   "id": "every-seafood",
   "metadata": {},
   "outputs": [
    {
     "data": {
      "text/plain": [
       "'E'"
      ]
     },
     "execution_count": 135,
     "metadata": {},
     "output_type": "execute_result"
    }
   ],
   "source": [
    "random.choice(\"ABCDEF\") # Случайный выбор из последовательности"
   ]
  },
  {
   "cell_type": "code",
   "execution_count": 139,
   "id": "equivalent-calvin",
   "metadata": {},
   "outputs": [
    {
     "name": "stdout",
     "output_type": "stream",
     "text": [
      "[3, 1, 4, 5, 2]\n"
     ]
    }
   ],
   "source": [
    "d = [1,2,3,4,5] \n",
    "random.shuffle(d) # перемешивает последовательность\n",
    "print(d)"
   ]
  },
  {
   "cell_type": "markdown",
   "id": "existing-proxy",
   "metadata": {},
   "source": [
    "Второй способ импорта"
   ]
  },
  {
   "cell_type": "code",
   "execution_count": 140,
   "id": "brave-university",
   "metadata": {},
   "outputs": [],
   "source": [
    "from random import randint"
   ]
  },
  {
   "cell_type": "code",
   "execution_count": 146,
   "id": "moral-journey",
   "metadata": {},
   "outputs": [
    {
     "data": {
      "text/plain": [
       "4"
      ]
     },
     "execution_count": 146,
     "metadata": {},
     "output_type": "execute_result"
    }
   ],
   "source": [
    "randint(4, 10) # - случайное целое число N, A ≤ N ≤ B."
   ]
  },
  {
   "cell_type": "markdown",
   "id": "moderate-singing",
   "metadata": {},
   "source": [
    "Посмотрите полный список функций [тут](https://pythonworld.ru/moduli/modul-random.html)"
   ]
  },
  {
   "cell_type": "markdown",
   "id": "surprised-retrieval",
   "metadata": {},
   "source": [
    "## Встроенный модуль collections"
   ]
  },
  {
   "cell_type": "markdown",
   "id": "white-council",
   "metadata": {},
   "source": [
    "Рассмотрите [ссылку](https://pythonworld.ru/moduli/modul-collections.html) и выполните все примеры оттуда в <b>этом ноутбуке</b><br>\n",
    "Вставить новую ячейку c кодом выше курсора \\[ESC\\]+\\[A\\] (через клавишу Escape), ниже курсора - \\[ESC\\]+\\[B\\] (или через меню Insert). Удалить ячейку под курсором - \\[ESC\\]+\\[X\\]"
   ]
  },
  {
   "cell_type": "code",
   "execution_count": 148,
   "id": "western-modeling",
   "metadata": {},
   "outputs": [],
   "source": [
    "import collections"
   ]
  },
  {
   "cell_type": "code",
   "execution_count": 149,
   "id": "designing-chancellor",
   "metadata": {},
   "outputs": [],
   "source": [
    "c = collections.Counter()"
   ]
  },
  {
   "cell_type": "code",
   "execution_count": 150,
   "id": "joint-mexican",
   "metadata": {},
   "outputs": [],
   "source": [
    "for word in ['spam', 'egg', 'spam', 'counter', 'counter', 'counter']:\n",
    "    c[word] += 1"
   ]
  },
  {
   "cell_type": "code",
   "execution_count": 72,
   "id": "lonely-burlington",
   "metadata": {},
   "outputs": [],
   "source": [
    "# ваш код"
   ]
  },
  {
   "cell_type": "code",
   "execution_count": null,
   "id": "recovered-shepherd",
   "metadata": {},
   "outputs": [],
   "source": []
  },
  {
   "cell_type": "markdown",
   "id": "neutral-longitude",
   "metadata": {},
   "source": [
    "## Встроенный модуль itertools"
   ]
  },
  {
   "cell_type": "markdown",
   "id": "second-repeat",
   "metadata": {},
   "source": [
    "Рассмотрите [ссылку](https://pythonworld.ru/moduli/modul-itertools.html) и выполните все примеры оттуда в <b>этом ноутбуке</b><br>"
   ]
  },
  {
   "cell_type": "code",
   "execution_count": 77,
   "id": "joint-burton",
   "metadata": {},
   "outputs": [],
   "source": [
    "import itertools "
   ]
  },
  {
   "cell_type": "code",
   "execution_count": null,
   "id": "political-significance",
   "metadata": {},
   "outputs": [],
   "source": []
  },
  {
   "cell_type": "code",
   "execution_count": null,
   "id": "coordinate-indiana",
   "metadata": {},
   "outputs": [],
   "source": []
  },
  {
   "cell_type": "code",
   "execution_count": null,
   "id": "documented-smart",
   "metadata": {},
   "outputs": [],
   "source": []
  },
  {
   "cell_type": "code",
   "execution_count": null,
   "id": "continental-czech",
   "metadata": {},
   "outputs": [],
   "source": []
  },
  {
   "cell_type": "code",
   "execution_count": null,
   "id": "selective-radar",
   "metadata": {},
   "outputs": [],
   "source": []
  },
  {
   "cell_type": "code",
   "execution_count": null,
   "id": "broadband-alliance",
   "metadata": {},
   "outputs": [],
   "source": []
  },
  {
   "cell_type": "code",
   "execution_count": null,
   "id": "another-occasion",
   "metadata": {},
   "outputs": [],
   "source": []
  },
  {
   "cell_type": "markdown",
   "id": "optimum-shirt",
   "metadata": {},
   "source": [
    "## Задача №3"
   ]
  },
  {
   "cell_type": "markdown",
   "id": "useful-proportion",
   "metadata": {},
   "source": [
    "Дан список чисел, вывести все уникальные тройки чисел в нем, которые в сумме дают 0. <br>\n",
    "Например для списка \\[-8, -11, -3, 9, -4, 10, -12, 2, 4, -15\\] это будут два списка \\[-11, 9, 2\\], \\[10, -12, 2\\]\n",
    "<br>-11 + 9 + 2 == -12 + 10 + 2 == 0"
   ]
  },
  {
   "cell_type": "code",
   "execution_count": 88,
   "id": "front-steering",
   "metadata": {},
   "outputs": [],
   "source": [
    "nums = [random.randint(-15, 15) for _ in range(10)]"
   ]
  },
  {
   "cell_type": "code",
   "execution_count": 101,
   "id": "similar-reply",
   "metadata": {},
   "outputs": [],
   "source": [
    "def find_triplets(a):\n",
    "    return []"
   ]
  },
  {
   "cell_type": "code",
   "execution_count": 79,
   "id": "cooked-civilian",
   "metadata": {},
   "outputs": [],
   "source": [
    "import random"
   ]
  },
  {
   "cell_type": "code",
   "execution_count": 97,
   "id": "reverse-model",
   "metadata": {},
   "outputs": [
    {
     "name": "stdout",
     "output_type": "stream",
     "text": [
      "[-8, -11, -3, 9, -4, 10, -12, 2, 4, -15]\n",
      "[(-11, 9, 2), (10, -12, 2)]\n"
     ]
    }
   ],
   "source": [
    "print(nums)\n",
    "print(result)"
   ]
  },
  {
   "cell_type": "code",
   "execution_count": 100,
   "id": "headed-guidance",
   "metadata": {},
   "outputs": [],
   "source": [
    "assert find_triplets([-8, -11, -3, 9, -4, 10, -12, 2, 4, -15]) == [(-11, 9, 2), (10, -12, 2)]"
   ]
  },
  {
   "cell_type": "markdown",
   "id": "wireless-agent",
   "metadata": {},
   "source": [
    "## Задача №4 \n",
    "\n",
    "Дан файл со списком существительных слов русского языка word_rus.txt. Открыть его как файл, записать все слова как список. (для каждого слова необходимо убрать знак новой строки в конце \"\\n\" (функция strip)).\n",
    "Создать словарь с количеством слов по длине слова. Например ({3: 235, 4: 566} - с длиной 3 буквы 235 слов, с длиной 4 буквы - 566 слов и.т.д). Вывести список самых длинных слов.\n",
    "<br>\n",
    "Написать программу для отгадывания слов, в котором перемешаны буквы. Отгадать слова.\n",
    "<ul>\n",
    "<li>унвекиаурчи</li>\n",
    "<li>ицтчпаопу</li>\n",
    "<li>роаоглгтолнио</li>\n",
    "<li>онлкмснеьстоея</li>\n",
    "<li>ииякммир</li>\n",
    "<li>ечосртиитьпоал</li>\n",
    "<li>иамнрдок</li>\n",
    "<li>зхрлиыеенра</li>\n",
    "</ul>"
   ]
  },
  {
   "cell_type": "code",
   "execution_count": 94,
   "id": "scheduled-harris",
   "metadata": {},
   "outputs": [],
   "source": [
    "with open(\"word_rus.txt\", 'rt', encoding='utf-8') as f:\n",
    "    pass"
   ]
  },
  {
   "cell_type": "code",
   "execution_count": null,
   "id": "valid-georgia",
   "metadata": {},
   "outputs": [],
   "source": []
  }
 ],
 "metadata": {
  "kernelspec": {
   "display_name": "Python 3",
   "language": "python",
   "name": "python3"
  },
  "language_info": {
   "codemirror_mode": {
    "name": "ipython",
    "version": 3
   },
   "file_extension": ".py",
   "mimetype": "text/x-python",
   "name": "python",
   "nbconvert_exporter": "python",
   "pygments_lexer": "ipython3",
   "version": "3.9.2"
  }
 },
 "nbformat": 4,
 "nbformat_minor": 5
}
