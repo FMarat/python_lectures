{
 "cells": [
  {
   "cell_type": "markdown",
   "id": "spatial-consultancy",
   "metadata": {},
   "source": [
    "# Смотрите [вторую часть](Python_intro2.ipynb)"
   ]
  },
  {
   "cell_type": "markdown",
   "id": "comfortable-necklace",
   "metadata": {},
   "source": [
    "## Обработка исключений"
   ]
  },
  {
   "cell_type": "markdown",
   "id": "proper-commission",
   "metadata": {},
   "source": [
    "Для того, чтобы ваша программа не завершала аварийно работу при каждой ошибке в Python существует обработка исключений.<br>Они позволяют программе выполнять какие-либо действия при ошибках. Например сообщать программисту или пользователю программы об ошибке, записывать сообщения о ошибках в лог файлы и.т.д.<br>\n",
    "Наиболее часто ошибки возникают при вводе данных в программу, чтении и записи файлов."
   ]
  },
  {
   "cell_type": "markdown",
   "id": "documentary-checklist",
   "metadata": {},
   "source": [
    "Рассмотрим ошибку деления на 0."
   ]
  },
  {
   "cell_type": "code",
   "execution_count": 7,
   "id": "australian-article",
   "metadata": {},
   "outputs": [
    {
     "ename": "ZeroDivisionError",
     "evalue": "division by zero",
     "output_type": "error",
     "traceback": [
      "\u001b[1;31m---------------------------------------------------------------------------\u001b[0m",
      "\u001b[1;31mZeroDivisionError\u001b[0m                         Traceback (most recent call last)",
      "\u001b[1;32m<ipython-input-7-917dfc7b0d66>\u001b[0m in \u001b[0;36m<module>\u001b[1;34m\u001b[0m\n\u001b[0;32m      1\u001b[0m \u001b[0ma\u001b[0m \u001b[1;33m=\u001b[0m \u001b[1;36m1\u001b[0m\u001b[1;33m\u001b[0m\u001b[1;33m\u001b[0m\u001b[0m\n\u001b[0;32m      2\u001b[0m \u001b[0mb\u001b[0m \u001b[1;33m=\u001b[0m \u001b[1;36m0\u001b[0m\u001b[1;33m\u001b[0m\u001b[1;33m\u001b[0m\u001b[0m\n\u001b[1;32m----> 3\u001b[1;33m \u001b[0ma\u001b[0m \u001b[1;33m/\u001b[0m \u001b[0mb\u001b[0m\u001b[1;33m\u001b[0m\u001b[1;33m\u001b[0m\u001b[0m\n\u001b[0m",
      "\u001b[1;31mZeroDivisionError\u001b[0m: division by zero"
     ]
    }
   ],
   "source": [
    "a = 1\n",
    "b = 0\n",
    "a / b"
   ]
  },
  {
   "cell_type": "markdown",
   "id": "terminal-construction",
   "metadata": {},
   "source": [
    "ZeroDivisionError - название исключения, а 'division by zero' - краткое описание ошибки.<br>"
   ]
  },
  {
   "cell_type": "markdown",
   "id": "realistic-dakota",
   "metadata": {},
   "source": [
    "Для обработки исключений в Python существует конструкция try ... except Exception.<br> \n",
    "Если в программе между блоком try except возникает исключение Exception, то в программе выполняется то, что после блока except"
   ]
  },
  {
   "cell_type": "code",
   "execution_count": 17,
   "id": "worldwide-deviation",
   "metadata": {},
   "outputs": [
    {
     "name": "stdout",
     "output_type": "stream",
     "text": [
      "На 0 делить нельзя!\n"
     ]
    }
   ],
   "source": [
    "try:\n",
    "    print(a / b)\n",
    "except ZeroDivisionError:\n",
    "    print('На 0 делить нельзя!')"
   ]
  },
  {
   "cell_type": "markdown",
   "id": "valid-electricity",
   "metadata": {},
   "source": [
    "TypeError - операция применена к объекту несоответствующего типа."
   ]
  },
  {
   "cell_type": "code",
   "execution_count": 16,
   "id": "responsible-plaza",
   "metadata": {},
   "outputs": [
    {
     "name": "stdout",
     "output_type": "stream",
     "text": [
      "Нельзя прибавлять целые числа и строки!\n"
     ]
    }
   ],
   "source": [
    "try:\n",
    "    print(5 + \"sdf\")\n",
    "except TypeError:\n",
    "    print('Нельзя прибавлять целые числа и строки!')"
   ]
  },
  {
   "cell_type": "markdown",
   "id": "quick-programmer",
   "metadata": {},
   "source": [
    "ValueError - функция получает аргумент правильного типа, но некорректного значения."
   ]
  },
  {
   "cell_type": "code",
   "execution_count": 23,
   "id": "atomic-cambodia",
   "metadata": {},
   "outputs": [
    {
     "name": "stdout",
     "output_type": "stream",
     "text": [
      "Пожалуйста введите число:6\n",
      "квадрат числа равен 36\n"
     ]
    }
   ],
   "source": [
    "try:\n",
    "    x = int(input(\"Пожалуйста введите число:\"))\n",
    "    print(\"квадрат числа равен\", x**2)\n",
    "except ValueError:\n",
    "    print(\"Вводите только целые числа\")"
   ]
  },
  {
   "cell_type": "markdown",
   "id": "pediatric-carrier",
   "metadata": {},
   "source": [
    "FileNotFoundError - файл или директория не существует."
   ]
  },
  {
   "cell_type": "code",
   "execution_count": 25,
   "id": "persistent-attachment",
   "metadata": {},
   "outputs": [
    {
     "name": "stdout",
     "output_type": "stream",
     "text": [
      "Файл 1.txt не существует\n"
     ]
    }
   ],
   "source": [
    "try:\n",
    "    f = open('1.txt','rt')\n",
    "except FileNotFoundError:\n",
    "    print(\"Файл 1.txt не существует\")"
   ]
  },
  {
   "cell_type": "markdown",
   "id": "involved-easter",
   "metadata": {},
   "source": [
    "Исключений огромное [количество](https://docs.python.org/3/library/exceptions.html). Есть возможность перехватывать любое исключение задавая Exception, как показано ниже, но рекомендуют всегда задавать конкретные искдючения (например ValueError, FileNotFoundError)."
   ]
  },
  {
   "cell_type": "code",
   "execution_count": 32,
   "id": "orange-modem",
   "metadata": {},
   "outputs": [
    {
     "name": "stdout",
     "output_type": "stream",
     "text": [
      "Возникла ошибка [Errno 2] No such file or directory: '1.txt' \n",
      "Файл 1.txt не существует\n"
     ]
    }
   ],
   "source": [
    "try:\n",
    "    f = open('1.txt','rt')\n",
    "except Exception as e:\n",
    "    print(\"Возникла ошибка\",e,\"\\nФайл 1.txt не существует\")"
   ]
  },
  {
   "cell_type": "markdown",
   "id": "tough-tracy",
   "metadata": {},
   "source": [
    "## Модули Python, встроенный модуль random"
   ]
  },
  {
   "cell_type": "markdown",
   "id": "available-trial",
   "metadata": {},
   "source": [
    "Модули Python это файл с кодом программы, который вы импортируете в свою программу и можете в дальнейшем использовать его функции, классы и методы. Для подключения модулей используется в основном два типа синтаксиса \n",
    "<ul> \n",
    "    <li>import имя_модуля, from </li>\n",
    "    <li>from имя_модуля import функция</li>\n",
    "</ul>\n",
    "В первом случае в вашей программе для обращения к функции модуля необходимо писать имя функции через точку таким образом <p>имя_модуля.функция</p>"
   ]
  },
  {
   "cell_type": "code",
   "execution_count": 105,
   "id": "unlikely-particle",
   "metadata": {},
   "outputs": [],
   "source": [
    "import random"
   ]
  },
  {
   "cell_type": "code",
   "execution_count": 133,
   "id": "empirical-check",
   "metadata": {},
   "outputs": [
    {
     "data": {
      "text/plain": [
       "0.8714635645495539"
      ]
     },
     "execution_count": 133,
     "metadata": {},
     "output_type": "execute_result"
    }
   ],
   "source": [
    "random.random() # случайное число от 0 до 1."
   ]
  },
  {
   "cell_type": "code",
   "execution_count": 138,
   "id": "recorded-subject",
   "metadata": {},
   "outputs": [
    {
     "data": {
      "text/plain": [
       "3.238829772710247"
      ]
     },
     "execution_count": 138,
     "metadata": {},
     "output_type": "execute_result"
    }
   ],
   "source": [
    "random.uniform(2, 5) # случайное число с плавающей точкой, A ≤ N ≤ B (A=2, B=5)"
   ]
  },
  {
   "cell_type": "code",
   "execution_count": 134,
   "id": "undefined-tender",
   "metadata": {},
   "outputs": [
    {
     "data": {
      "text/plain": [
       "4"
      ]
     },
     "execution_count": 134,
     "metadata": {},
     "output_type": "execute_result"
    }
   ],
   "source": [
    "random.choice([1,2,3,4,5]) # Случайный выбор из последовательности"
   ]
  },
  {
   "cell_type": "code",
   "execution_count": 135,
   "id": "every-seafood",
   "metadata": {},
   "outputs": [
    {
     "data": {
      "text/plain": [
       "'E'"
      ]
     },
     "execution_count": 135,
     "metadata": {},
     "output_type": "execute_result"
    }
   ],
   "source": [
    "random.choice(\"ABCDEF\") # Случайный выбор из последовательности"
   ]
  },
  {
   "cell_type": "code",
   "execution_count": 139,
   "id": "equivalent-calvin",
   "metadata": {},
   "outputs": [
    {
     "name": "stdout",
     "output_type": "stream",
     "text": [
      "[3, 1, 4, 5, 2]\n"
     ]
    }
   ],
   "source": [
    "d = [1,2,3,4,5] \n",
    "random.shuffle(d) # перемешивает последовательность\n",
    "print(d)"
   ]
  },
  {
   "cell_type": "markdown",
   "id": "existing-proxy",
   "metadata": {},
   "source": [
    "Второй способ импорта"
   ]
  },
  {
   "cell_type": "code",
   "execution_count": 140,
   "id": "brave-university",
   "metadata": {},
   "outputs": [],
   "source": [
    "from random import randint"
   ]
  },
  {
   "cell_type": "code",
   "execution_count": 146,
   "id": "moral-journey",
   "metadata": {},
   "outputs": [
    {
     "data": {
      "text/plain": [
       "4"
      ]
     },
     "execution_count": 146,
     "metadata": {},
     "output_type": "execute_result"
    }
   ],
   "source": [
    "randint(4, 10) # - случайное целое число N, A ≤ N ≤ B."
   ]
  },
  {
   "cell_type": "markdown",
   "id": "moderate-singing",
   "metadata": {},
   "source": [
    "Посмотрите полный список функций [тут](https://pythonworld.ru/moduli/modul-random.html)"
   ]
  },
  {
   "cell_type": "markdown",
   "id": "surprised-retrieval",
   "metadata": {},
   "source": [
    "## Встроенный модуль collections"
   ]
  },
  {
   "cell_type": "markdown",
   "id": "white-council",
   "metadata": {},
   "source": [
    "Рассмотрите [ссылку](https://pythonworld.ru/moduli/modul-collections.html) и выполните все примеры оттуда в <b>этом ноутбуке</b><br>\n",
    "Вставить новую ячейку c кодом выше курсора \\[ESC\\]+\\[A\\] (через клавишу Escape), ниже курсора - \\[ESC\\]+\\[B\\] (или через меню Insert). Удалить ячейку под курсором - \\[ESC\\]+\\[X\\]"
   ]
  },
  {
   "cell_type": "code",
   "execution_count": 148,
   "id": "western-modeling",
   "metadata": {},
   "outputs": [],
   "source": [
    "import collections"
   ]
  },
  {
   "cell_type": "code",
   "execution_count": 149,
   "id": "designing-chancellor",
   "metadata": {},
   "outputs": [],
   "source": [
    "c = collections.Counter()"
   ]
  },
  {
   "cell_type": "code",
   "execution_count": 150,
   "id": "joint-mexican",
   "metadata": {},
   "outputs": [],
   "source": [
    "for word in ['spam', 'egg', 'spam', 'counter', 'counter', 'counter']:\n",
    "    c[word] += 1"
   ]
  },
  {
   "cell_type": "code",
   "execution_count": 72,
   "id": "lonely-burlington",
   "metadata": {},
   "outputs": [],
   "source": [
    "# ваш код"
   ]
  },
  {
   "cell_type": "code",
   "execution_count": null,
   "id": "recovered-shepherd",
   "metadata": {},
   "outputs": [],
   "source": []
  },
  {
   "cell_type": "markdown",
   "id": "neutral-longitude",
   "metadata": {},
   "source": [
    "## Встроенный модуль itertools"
   ]
  },
  {
   "cell_type": "markdown",
   "id": "second-repeat",
   "metadata": {},
   "source": [
    "Рассмотрите [ссылку](https://pythonworld.ru/moduli/modul-itertools.html) и выполните все примеры оттуда в <b>этом ноутбуке</b><br>"
   ]
  },
  {
   "cell_type": "code",
   "execution_count": 77,
   "id": "joint-burton",
   "metadata": {},
   "outputs": [],
   "source": [
    "import itertools "
   ]
  },
  {
   "cell_type": "code",
   "execution_count": null,
   "id": "political-significance",
   "metadata": {},
   "outputs": [],
   "source": []
  },
  {
   "cell_type": "code",
   "execution_count": null,
   "id": "coordinate-indiana",
   "metadata": {},
   "outputs": [],
   "source": []
  },
  {
   "cell_type": "code",
   "execution_count": null,
   "id": "documented-smart",
   "metadata": {},
   "outputs": [],
   "source": []
  },
  {
   "cell_type": "code",
   "execution_count": null,
   "id": "continental-czech",
   "metadata": {},
   "outputs": [],
   "source": []
  },
  {
   "cell_type": "code",
   "execution_count": null,
   "id": "selective-radar",
   "metadata": {},
   "outputs": [],
   "source": []
  },
  {
   "cell_type": "code",
   "execution_count": null,
   "id": "broadband-alliance",
   "metadata": {},
   "outputs": [],
   "source": []
  },
  {
   "cell_type": "code",
   "execution_count": null,
   "id": "another-occasion",
   "metadata": {},
   "outputs": [],
   "source": []
  },
  {
   "cell_type": "markdown",
   "id": "optimum-shirt",
   "metadata": {},
   "source": [
    "## Задача №3"
   ]
  },
  {
   "cell_type": "markdown",
   "id": "useful-proportion",
   "metadata": {},
   "source": [
    "Дан список чисел, вывести все уникальные тройки чисел в нем, которые в сумме дают 0. <br>\n",
    "Например для списка \\[-8, -11, -3, 9, -4, 10, -12, 2, 4, -15\\] это будут два списка \\[-11, 9, 2\\], \\[10, -12, 2\\]\n",
    "<br>-11 + 9 + 2 == -12 + 10 + 2 == 0"
   ]
  },
  {
   "cell_type": "code",
   "execution_count": 88,
   "id": "front-steering",
   "metadata": {},
   "outputs": [],
   "source": [
    "nums = [random.randint(-15, 15) for _ in range(10)]"
   ]
  },
  {
   "cell_type": "code",
   "execution_count": 101,
   "id": "similar-reply",
   "metadata": {},
   "outputs": [],
   "source": [
    "def find_triplets(a):\n",
    "    return []"
   ]
  },
  {
   "cell_type": "code",
   "execution_count": 79,
   "id": "cooked-civilian",
   "metadata": {},
   "outputs": [],
   "source": [
    "import random"
   ]
  },
  {
   "cell_type": "code",
   "execution_count": 97,
   "id": "reverse-model",
   "metadata": {},
   "outputs": [
    {
     "name": "stdout",
     "output_type": "stream",
     "text": [
      "[-8, -11, -3, 9, -4, 10, -12, 2, 4, -15]\n",
      "[(-11, 9, 2), (10, -12, 2)]\n"
     ]
    }
   ],
   "source": [
    "print(nums)\n",
    "print(result)"
   ]
  },
  {
   "cell_type": "code",
   "execution_count": 100,
   "id": "headed-guidance",
   "metadata": {},
   "outputs": [],
   "source": [
    "assert find_triplets([-8, -11, -3, 9, -4, 10, -12, 2, 4, -15]) == [(-11, 9, 2), (10, -12, 2)]"
   ]
  },
  {
   "cell_type": "markdown",
   "id": "wireless-agent",
   "metadata": {},
   "source": [
    "## Задача №4 \n",
    "\n",
    "Дан файл со списком существительных слов русского языка word_rus.txt. Открыть его как файл, записать все слова как список. (для каждого слова необходимо убрать знак новой строки в конце \"\\n\" (функция strip)).\n",
    "Создать словарь с количеством слов по длине слова. Например ({3: 235, 4: 566} - с длиной 3 буквы 235 слов, с длиной 4 буквы - 566 слов и.т.д). Вывести список самых длинных слов.\n",
    "<br>\n",
    "Написать программу для отгадывания слов, в котором перемешаны буквы. Отгадать слова.\n",
    "<ul>\n",
    "<li>унвекиаурчи</li>\n",
    "<li>ицтчпаопу</li>\n",
    "<li>роаоглгтолнио</li>\n",
    "<li>онлкмснеьстоея</li>\n",
    "<li>ииякммир</li>\n",
    "<li>ечосртиитьпоал</li>\n",
    "<li>иамнрдок</li>\n",
    "<li>зхрлиыеенра</li>\n",
    "</ul>"
   ]
  },
  {
   "cell_type": "code",
   "execution_count": 94,
   "id": "scheduled-harris",
   "metadata": {},
   "outputs": [],
   "source": [
    "with open(\"word_rus.txt\", 'rt', encoding='utf-8') as f:\n",
    "    pass"
   ]
  },
  {
   "cell_type": "markdown",
   "id": "julian-setup",
   "metadata": {},
   "source": [
    "<h1 id=\"firstHeading\" class=\"firstHeading\">Шифр Цезаря</h1>\n",
    "<br>\n",
    "Материал из Википедии — свободной энциклопедии\n",
    "<br>\n",
    "<br>\n",
    "\t<div id=\"bodyContent\" class=\"mw-body-content\">\n",
    "    <b>Шифр Цезаря</b>, также известный как <b><a href=\"/wiki/%D0%A8%D0%B8%D1%84%D1%80\" title=\"Шифр\">шифр</a> сдвига</b>, <b>код Цезаря</b> или <b>сдвиг Цезаря</b>&nbsp;— один из самых простых и наиболее широко известных методов шифрования.\n",
    "</p><p>Шифр Цезаря&nbsp;— это вид <a href=\"/wiki/%D0%A8%D0%B8%D1%84%D1%80_%D0%BF%D0%BE%D0%B4%D1%81%D1%82%D0%B0%D0%BD%D0%BE%D0%B2%D0%BA%D0%B8\" title=\"Шифр подстановки\">шифра подстановки</a>, в котором каждый <a href=\"/wiki/%D0%A1%D0%B8%D0%BC%D0%B2%D0%BE%D0%BB\" title=\"Символ\">символ</a> в открытом тексте заменяется символом, находящимся на некотором постоянном числе позиций левее или правее него в <a href=\"/wiki/%D0%90%D0%BB%D1%84%D0%B0%D0%B2%D0%B8%D1%82\" title=\"Алфавит\">алфавите</a>.\n",
    "Например, в шифре со сдвигом вправо на 3, А была бы заменена на Г, Б станет Д, и так далее.\n",
    "</p><p>Шифр назван в честь римского полководца <a href=\"/wiki/%D0%AE%D0%BB%D0%B8%D0%B9_%D0%A6%D0%B5%D0%B7%D0%B0%D1%80%D1%8C\" class=\"mw-redirect\" title=\"Юлий Цезарь\">Гая Юлия Цезаря</a>, использовавшего его для секретной переписки со своими генералами.\n",
    "</p><p>Шаг шифрования, выполняемый шифром Цезаря, часто включается как часть более сложных схем, таких как <a href=\"/wiki/%D0%A8%D0%B8%D1%84%D1%80_%D0%92%D0%B8%D0%B6%D0%B5%D0%BD%D0%B5%D1%80%D0%B0\" title=\"Шифр Виженера\">шифр Виженера</a>, и всё ещё имеет современное приложение в системе <a href=\"/wiki/ROT13\" title=\"ROT13\">ROT13</a>. Как и все <a href=\"/wiki/%D0%A8%D0%B8%D1%84%D1%80_%D0%BF%D1%80%D0%BE%D1%81%D1%82%D0%BE%D0%B9_%D0%B7%D0%B0%D0%BC%D0%B5%D0%BD%D1%8B\" title=\"Шифр простой замены\">моноалфавитные шифры</a>, шифр Цезаря легко взламывается и не имеет почти никакого применения на практике.\n",
    "</p>\n",
    "\n",
    "Если сопоставить каждому символу алфавита его порядковый номер (нумеруя с 0), то шифрование и дешифрование можно выразить формулами <a href=\"/wiki/%D0%9C%D0%BE%D0%B4%D1%83%D0%BB%D1%8C%D0%BD%D0%B0%D1%8F_%D0%B0%D1%80%D0%B8%D1%84%D0%BC%D0%B5%D1%82%D0%B8%D0%BA%D0%B0\" class=\"mw-redirect\" title=\"Модульная арифметика\">модульной арифметики</a><sup id=\"cite_ref-_aa852e52bcf7e75e_1-0\" class=\"reference\"><a href=\"#cite_note-_aa852e52bcf7e75e-1\">[1]</a></sup><sup id=\"cite_ref-_53835a569b2acd83_2-0\" class=\"reference\"><a href=\"#cite_note-_53835a569b2acd83-2\">[2]</a></sup>:\n",
    "</p>\n",
    "<dl><dd><span class=\"mwe-math-element\"><span class=\"mwe-math-mathml-inline mwe-math-mathml-a11y\" style=\"display: none;\"><math xmlns=\"http://www.w3.org/1998/Math/MathML\" alttext=\"{\\displaystyle y=(x+k)\\ \\mod \\ n}\">\n",
    "  <semantics>\n",
    "    <mrow class=\"MJX-TeXAtom-ORD\">\n",
    "      <mstyle scriptlevel=\"0\" displaystyle=\"true\">\n",
    "        <mi>y</mi>\n",
    "        <mo>=</mo>\n",
    "        <mo stretchy=\"false\">(</mo>\n",
    "        <mi>x</mi>\n",
    "        <mo>+</mo>\n",
    "        <mi>k</mi>\n",
    "        <mo stretchy=\"false\">)</mo>\n",
    "        <mtext>&nbsp;</mtext>\n",
    "        <mspace width=\"1em\"></mspace>\n",
    "        <mi>mod</mi>\n",
    "        <mspace width=\"thinmathspace\"></mspace>\n",
    "        <mspace width=\"thinmathspace\"></mspace>\n",
    "        <mtext>&nbsp;</mtext>\n",
    "        <mi>n</mi>\n",
    "      </mstyle>\n",
    "    </mrow>\n",
    "    <annotation encoding=\"application/x-tex\">{\\displaystyle y=(x+k)\\ \\mod \\ n}</annotation>\n",
    "  </semantics>\n",
    "</math></span><img src=\"https://wikimedia.org/api/rest_v1/media/math/render/svg/2417bfd08b8fa32adcabd255bb9a6b20832ca47f\" class=\"mwe-math-fallback-image-inline\" aria-hidden=\"true\" style=\"vertical-align: -0.838ex; width:22.262ex; height:2.843ex;\" alt=\"y=(x+k)\\ \\mod \\ n\"></span></dd>\n",
    "<dd><span class=\"mwe-math-element\"><span class=\"mwe-math-mathml-inline mwe-math-mathml-a11y\" style=\"display: none;\"><math xmlns=\"http://www.w3.org/1998/Math/MathML\" alttext=\"{\\displaystyle x=(y-k)\\ \\mod \\ n,}\">\n",
    "  <semantics>\n",
    "    <mrow class=\"MJX-TeXAtom-ORD\">\n",
    "      <mstyle scriptlevel=\"0\" displaystyle=\"true\">\n",
    "        <mi>x</mi>\n",
    "        <mo>=</mo>\n",
    "        <mo stretchy=\"false\">(</mo>\n",
    "        <mi>y</mi>\n",
    "        <mo>−<!-- − --></mo>\n",
    "        <mi>k</mi>\n",
    "        <mo stretchy=\"false\">)</mo>\n",
    "        <mtext>&nbsp;</mtext>\n",
    "        <mspace width=\"1em\"></mspace>\n",
    "        <mi>mod</mi>\n",
    "        <mspace width=\"thinmathspace\"></mspace>\n",
    "        <mspace width=\"thinmathspace\"></mspace>\n",
    "        <mtext>&nbsp;</mtext>\n",
    "        <mi>n</mi>\n",
    "        <mo>,</mo>\n",
    "      </mstyle>\n",
    "    </mrow>\n",
    "    <annotation encoding=\"application/x-tex\">{\\displaystyle x=(y-k)\\ \\mod \\ n,}</annotation>\n",
    "  </semantics>\n",
    "</math></span><img src=\"https://wikimedia.org/api/rest_v1/media/math/render/svg/ec7a78025d3d44bece6d9880ad58ad131ac013fa\" class=\"mwe-math-fallback-image-inline\" aria-hidden=\"true\" style=\"vertical-align: -0.838ex; width:22.909ex; height:2.843ex;\" alt=\"{\\displaystyle x=(y-k)\\ \\mod \\ n,}\"></span></dd></dl>\n",
    "<p>где <span class=\"mwe-math-element\"><span class=\"mwe-math-mathml-inline mwe-math-mathml-a11y\" style=\"display: none;\"><math xmlns=\"http://www.w3.org/1998/Math/MathML\" alttext=\"{\\displaystyle x}\">\n",
    "  <semantics>\n",
    "    <mrow class=\"MJX-TeXAtom-ORD\">\n",
    "      <mstyle scriptlevel=\"0\" displaystyle=\"true\">\n",
    "        <mi>x</mi>\n",
    "      </mstyle>\n",
    "    </mrow>\n",
    "    <annotation encoding=\"application/x-tex\">{\\displaystyle x}</annotation>\n",
    "  </semantics>\n",
    "</math></span><img src=\"https://wikimedia.org/api/rest_v1/media/math/render/svg/87f9e315fd7e2ba406057a97300593c4802b53e4\" class=\"mwe-math-fallback-image-inline\" aria-hidden=\"true\" style=\"vertical-align: -0.338ex; width:1.33ex; height:1.676ex;\" alt=\"x\"></span>&nbsp;— символ открытого текста, <span class=\"mwe-math-element\"><span class=\"mwe-math-mathml-inline mwe-math-mathml-a11y\" style=\"display: none;\"><math xmlns=\"http://www.w3.org/1998/Math/MathML\" alttext=\"{\\displaystyle y}\">\n",
    "  <semantics>\n",
    "    <mrow class=\"MJX-TeXAtom-ORD\">\n",
    "      <mstyle scriptlevel=\"0\" displaystyle=\"true\">\n",
    "        <mi>y</mi>\n",
    "      </mstyle>\n",
    "    </mrow>\n",
    "    <annotation encoding=\"application/x-tex\">{\\displaystyle y}</annotation>\n",
    "  </semantics>\n",
    "</math></span><img src=\"https://wikimedia.org/api/rest_v1/media/math/render/svg/b8a6208ec717213d4317e666f1ae872e00620a0d\" class=\"mwe-math-fallback-image-inline\" aria-hidden=\"true\" style=\"vertical-align: -0.671ex; width:1.155ex; height:2.009ex;\" alt=\"y\"></span>&nbsp;— символ шифрованного текста, <span class=\"mwe-math-element\"><span class=\"mwe-math-mathml-inline mwe-math-mathml-a11y\" style=\"display: none;\"><math xmlns=\"http://www.w3.org/1998/Math/MathML\" alttext=\"{\\displaystyle n}\">\n",
    "  <semantics>\n",
    "    <mrow class=\"MJX-TeXAtom-ORD\">\n",
    "      <mstyle scriptlevel=\"0\" displaystyle=\"true\">\n",
    "        <mi>n</mi>\n",
    "      </mstyle>\n",
    "    </mrow>\n",
    "    <annotation encoding=\"application/x-tex\">{\\displaystyle n}</annotation>\n",
    "  </semantics>\n",
    "</math></span><img src=\"https://wikimedia.org/api/rest_v1/media/math/render/svg/a601995d55609f2d9f5e233e36fbe9ea26011b3b\" class=\"mwe-math-fallback-image-inline\" aria-hidden=\"true\" style=\"vertical-align: -0.338ex; width:1.395ex; height:1.676ex;\" alt=\"n\"></span>&nbsp;— <a href=\"/wiki/%D0%9C%D0%BE%D1%89%D0%BD%D0%BE%D1%81%D1%82%D1%8C_%D0%BC%D0%BD%D0%BE%D0%B6%D0%B5%D1%81%D1%82%D0%B2%D0%B0\" title=\"Мощность множества\">мощность</a> алфавита, а <span class=\"mwe-math-element\"><span class=\"mwe-math-mathml-inline mwe-math-mathml-a11y\" style=\"display: none;\"><math xmlns=\"http://www.w3.org/1998/Math/MathML\" alttext=\"{\\displaystyle k}\">\n",
    "  <semantics>\n",
    "    <mrow class=\"MJX-TeXAtom-ORD\">\n",
    "      <mstyle scriptlevel=\"0\" displaystyle=\"true\">\n",
    "        <mi>k</mi>\n",
    "      </mstyle>\n",
    "    </mrow>\n",
    "    <annotation encoding=\"application/x-tex\">{\\displaystyle k}</annotation>\n",
    "  </semantics>\n",
    "</math></span><img src=\"https://wikimedia.org/api/rest_v1/media/math/render/svg/c3c9a2c7b599b37105512c5d570edc034056dd40\" class=\"mwe-math-fallback-image-inline\" aria-hidden=\"true\" style=\"vertical-align: -0.338ex; width:1.211ex; height:2.176ex;\" alt=\"k\"></span>&nbsp;— ключ.\n",
    "</p><p>С точки зрения математики шифр Цезаря является частным случаем <a href=\"/wiki/%D0%90%D1%84%D1%84%D0%B8%D0%BD%D0%BD%D1%8B%D0%B9_%D1%88%D0%B8%D1%84%D1%80\" title=\"Аффинный шифр\">аффинного шифра</a>.\n",
    "</p>\n",
    "<h2>Пример</h2>\n",
    "<p>Шифрование с использованием ключа <span class=\"mwe-math-element\"><span class=\"mwe-math-mathml-inline mwe-math-mathml-a11y\" style=\"display: none;\"><math xmlns=\"http://www.w3.org/1998/Math/MathML\" alttext=\"{\\displaystyle k=3}\">\n",
    "  <semantics>\n",
    "    <mrow class=\"MJX-TeXAtom-ORD\">\n",
    "      <mstyle scriptlevel=\"0\" displaystyle=\"true\">\n",
    "        <mi>k</mi>\n",
    "        <mo>=</mo>\n",
    "        <mn>3</mn>\n",
    "      </mstyle>\n",
    "    </mrow>\n",
    "    <annotation encoding=\"application/x-tex\">{\\displaystyle k=3}</annotation>\n",
    "  </semantics>\n",
    "</math></span><img src=\"https://wikimedia.org/api/rest_v1/media/math/render/svg/662e06a2436f8a44fec791f5c794621f10dc8f30\" class=\"mwe-math-fallback-image-inline\" aria-hidden=\"true\" style=\"vertical-align: -0.338ex; width:5.472ex; height:2.176ex;\" alt=\"k = 3\"></span>. Буква «Е» «сдвигается» на три буквы вперёд и становится буквой «З». Твёрдый знак, перемещённый на три буквы вперёд, становится буквой «Э», буква «Я», перемещённая на три буквы вперёд, становится буквой «В», и так далее:\n",
    "</p>"
   ]
  },
  {
   "cell_type": "markdown",
   "id": "matched-rates",
   "metadata": {},
   "source": [
    "<p>В чем смысл модуля? В том, что после того как x+k становится больше (длины алфавита - 1), счет идет опять с 0\n",
    "<br>32 % 33 = 32, 33 % 33 = 0, 34 % 33 = 1, 35 % 33 = 2\n",
    "<br>    \n",
    "и мы никогда не выйдем за пределы строки длиной 33 символа и имеющей индексы от 0 до 32</p>"
   ]
  },
  {
   "cell_type": "code",
   "execution_count": 19,
   "id": "comprehensive-ticket",
   "metadata": {},
   "outputs": [
    {
     "name": "stdout",
     "output_type": "stream",
     "text": [
      "Символ А имеющий в алфавите индекс 0 теперь имеет индекс 3 и становится равным Г\n",
      "Символ Б имеющий в алфавите индекс 1 теперь имеет индекс 4 и становится равным Д\n",
      "Символ В имеющий в алфавите индекс 2 теперь имеет индекс 5 и становится равным Е\n",
      "Символ Г имеющий в алфавите индекс 3 теперь имеет индекс 6 и становится равным Ё\n",
      "Символ Д имеющий в алфавите индекс 4 теперь имеет индекс 7 и становится равным Ж\n",
      "Символ Е имеющий в алфавите индекс 5 теперь имеет индекс 8 и становится равным З\n",
      "Символ Ё имеющий в алфавите индекс 6 теперь имеет индекс 9 и становится равным И\n",
      "Символ Ж имеющий в алфавите индекс 7 теперь имеет индекс 10 и становится равным Й\n",
      "Символ З имеющий в алфавите индекс 8 теперь имеет индекс 11 и становится равным К\n",
      "Символ И имеющий в алфавите индекс 9 теперь имеет индекс 12 и становится равным Л\n",
      "Символ Й имеющий в алфавите индекс 10 теперь имеет индекс 13 и становится равным М\n",
      "Символ К имеющий в алфавите индекс 11 теперь имеет индекс 14 и становится равным Н\n",
      "Символ Л имеющий в алфавите индекс 12 теперь имеет индекс 15 и становится равным О\n",
      "Символ М имеющий в алфавите индекс 13 теперь имеет индекс 16 и становится равным П\n",
      "Символ Н имеющий в алфавите индекс 14 теперь имеет индекс 17 и становится равным Р\n",
      "Символ О имеющий в алфавите индекс 15 теперь имеет индекс 18 и становится равным С\n",
      "Символ П имеющий в алфавите индекс 16 теперь имеет индекс 19 и становится равным Т\n",
      "Символ Р имеющий в алфавите индекс 17 теперь имеет индекс 20 и становится равным У\n",
      "Символ С имеющий в алфавите индекс 18 теперь имеет индекс 21 и становится равным Ф\n",
      "Символ Т имеющий в алфавите индекс 19 теперь имеет индекс 22 и становится равным Х\n",
      "Символ У имеющий в алфавите индекс 20 теперь имеет индекс 23 и становится равным Ц\n",
      "Символ Ф имеющий в алфавите индекс 21 теперь имеет индекс 24 и становится равным Ч\n",
      "Символ Х имеющий в алфавите индекс 22 теперь имеет индекс 25 и становится равным Ш\n",
      "Символ Ц имеющий в алфавите индекс 23 теперь имеет индекс 26 и становится равным Щ\n",
      "Символ Ч имеющий в алфавите индекс 24 теперь имеет индекс 27 и становится равным Ъ\n",
      "Символ Ш имеющий в алфавите индекс 25 теперь имеет индекс 28 и становится равным Ы\n",
      "Символ Щ имеющий в алфавите индекс 26 теперь имеет индекс 29 и становится равным Ь\n",
      "Символ Ъ имеющий в алфавите индекс 27 теперь имеет индекс 30 и становится равным Э\n",
      "Символ Ы имеющий в алфавите индекс 28 теперь имеет индекс 31 и становится равным Ю\n",
      "Символ Ь имеющий в алфавите индекс 29 теперь имеет индекс 32 и становится равным Я\n",
      "Символ Э имеющий в алфавите индекс 30 теперь имеет индекс 0 и становится равным А\n",
      "Символ Ю имеющий в алфавите индекс 31 теперь имеет индекс 1 и становится равным Б\n",
      "Символ Я имеющий в алфавите индекс 32 теперь имеет индекс 2 и становится равным В\n"
     ]
    }
   ],
   "source": [
    "alphabet = \"АБВГДЕЁЖЗИЙКЛМНОПРСТУФХЦЧШЩЪЫЬЭЮЯ\" # алфавит\n",
    "n = len(alphabet) # длина алфавита 33\n",
    "k = 3 # значение ключа\n",
    "for x, c in enumerate(alphabet): # посмотрите часть с циклами и что делает enumerate\n",
    "    y = (x + k) % n \n",
    "    print('Символ', c, \"имеющий в алфавите индекс\", x, 'теперь имеет индекс', y, 'и становится равным', alphabet[y])"
   ]
  },
  {
   "cell_type": "markdown",
   "id": "north-efficiency",
   "metadata": {},
   "source": [
    "## Задача 5.\n",
    "Написать 2 функции, которые зашифровывают и расшифровывают зашифрованное методом Цезаря сообщения, принимая сообщение и длину ключа. Сообщение состоит только из заглавных букв русского языка.\n",
    "\n",
    "Расшифровать (ключ целое число может быть от 1 до 30).\n",
    "<br>\n",
    "\"ЙХЧЖФЛСЖНЛЩШЁФЛЦЧПШЩЪЦФХРЛШТПШУХЩЧЛЩГШЛЛИЛЧЯПФВ\"<br>\n",
    "\"ЯЦТАФСДГДУАХЦЭСЦДИЦЭАУЦЬСГИСГДЭЪУМЮСГИСГДНЦХЦЭСЦДИЦЭАУЦЬСТАФСДМЮ\"<br>\n",
    "\"СТХЛПЛКПАХСРЗЖСФХГХСНЛРЧСУПГЩЛЛ\""
   ]
  },
  {
   "cell_type": "code",
   "execution_count": null,
   "id": "spare-bhutan",
   "metadata": {},
   "outputs": [],
   "source": []
  }
 ],
 "metadata": {
  "kernelspec": {
   "display_name": "Python 3",
   "language": "python",
   "name": "python3"
  },
  "language_info": {
   "codemirror_mode": {
    "name": "ipython",
    "version": 3
   },
   "file_extension": ".py",
   "mimetype": "text/x-python",
   "name": "python",
   "nbconvert_exporter": "python",
   "pygments_lexer": "ipython3",
   "version": "3.9.2"
  }
 },
 "nbformat": 4,
 "nbformat_minor": 5
}
