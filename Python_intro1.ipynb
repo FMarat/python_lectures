{
 "cells": [
  {
   "cell_type": "markdown",
   "metadata": {},
   "source": [
    "# Основы работы с Jupyter notebook"
   ]
  },
  {
   "cell_type": "markdown",
   "metadata": {},
   "source": [
    "Вы работаете с ноутбуком Jupyter notebook. Jupyter notebook (ноутбук) является графической веб-оболочкой. Он использует ядро Python для вычислений. Jupyter notebook позволяет объединить код, текст, изображения и распространять их для других пользователей, что очень удобно при изучении языков программирования. Ноутбук запускается в браузере пользователя. Он может быть запущен как локально (для этого python и пакет jupyter должны быть установлены на компьютере пользователя), так и удаленно на определенном хостинге как в нашем случае."
   ]
  },
  {
   "cell_type": "markdown",
   "metadata": {},
   "source": [
    "Данные нужно вводить в ячейки. Ячейки могут содержать два типа данных: текст в разметке Markdown и код на языке python (смотрите меню Cell/Cell type). Смотрите пример ниже. In[n] - означает ячейка ввода с номером n и ниже вывод. Запустить ячейку можно поставив курсор на нее и нажав клавиши Shift+Enter."
   ]
  },
  {
   "cell_type": "code",
   "execution_count": 1,
   "metadata": {},
   "outputs": [
    {
     "name": "stdout",
     "output_type": "stream",
     "text": [
      "Hello world\n"
     ]
    }
   ],
   "source": [
    " print(\"Hello world\")"
   ]
  },
  {
   "cell_type": "markdown",
   "metadata": {},
   "source": [
    "Основные операции с ячейками можно выполнять из меню или используя клавиатурные сокращения. Самые основные\n",
    "Esc+x - удалить ячейку\n",
    "Esc+a - вставить новую ячейку выше текущей (где стоит курсор)\n",
    "Esc+b - вставить новую ячейку ниже текущей. Отменить изменения можно через меню Edit/Undo...\n",
    "\n",
    "<b>Хостинг на котором расположен этот документ не поддерживает сохранение, поэтому после того как вы закроете вкладку браузера все изменения пропадут и документ придет в первоначальное состояние.</b>"
   ]
  },
  {
   "cell_type": "markdown",
   "metadata": {},
   "source": [
    "# Элементарные операции"
   ]
  },
  {
   "cell_type": "markdown",
   "metadata": {},
   "source": [
    "## Вывод и ввод информации. Переменные. Типы данных и их преобразования."
   ]
  },
  {
   "cell_type": "markdown",
   "metadata": {},
   "source": [
    "Строки могут быть как в двойных, так и одинарных кавычках"
   ]
  },
  {
   "cell_type": "code",
   "execution_count": null,
   "metadata": {},
   "outputs": [],
   "source": [
    "print(\"Hello world\")\n",
    "print('Hello', 'world')\n",
    "print('Hello', 'world', sep=', ')# sep= разделитель\n",
    "print('Hello', 'world', end='!')# end= последний аргумент функции print"
   ]
  },
  {
   "cell_type": "markdown",
   "metadata": {},
   "source": [
    "Оператор ввода input. Принимает строковые данные по одной строке, переход к следующей строке - Enter. Присвоение переменных знаком ="
   ]
  },
  {
   "cell_type": "code",
   "execution_count": null,
   "metadata": {},
   "outputs": [],
   "source": [
    "a = input()\n",
    "b = input()\n",
    "print(a+b)"
   ]
  },
  {
   "cell_type": "markdown",
   "metadata": {},
   "source": [
    "В Python существуют несколько базовых типов (int - целые, float - вещественные, bool - логический тип, str - строки). Типы контейнеры (list - список, tuple - кортеж, dict - словарь) и др. Чтобы узнать тип элемента можно использовать функцию type. Функция isinstance(el, t) - проверяет, что el имеет тип t."
   ]
  },
  {
   "cell_type": "code",
   "execution_count": null,
   "metadata": {},
   "outputs": [],
   "source": [
    "type(2), type(0.4), type(False), type(True), type('234'), type([2, 3, 4]), type((2, 3, 4))"
   ]
  },
  {
   "cell_type": "code",
   "execution_count": null,
   "metadata": {},
   "outputs": [],
   "source": [
    "isinstance(23, int), isinstance('345', str)"
   ]
  },
  {
   "cell_type": "markdown",
   "metadata": {},
   "source": [
    "Для того, чтобы передать данные других типов необходимо их преобразовать.\n",
    "Преобразование в строку - str, в целое число - int, float - в вещественное.\n",
    "\"+\" - оператор сложения для строк и чисел. "
   ]
  },
  {
   "cell_type": "code",
   "execution_count": null,
   "metadata": {},
   "outputs": [],
   "source": [
    "print('2' + '3')\n",
    "print('2.4' + '3.6')\n",
    "print(int('2') + int('3'))\n",
    "print(float('2.4') + float('3.6'))\n",
    "print(str(123)+'456')"
   ]
  },
  {
   "cell_type": "code",
   "execution_count": null,
   "metadata": {},
   "outputs": [],
   "source": [
    "a = int(input())\n",
    "b = int(input())\n",
    "print(\"a + b = \", a + b)"
   ]
  },
  {
   "cell_type": "markdown",
   "metadata": {},
   "source": [
    "Арифметические операции"
   ]
  },
  {
   "cell_type": "code",
   "execution_count": null,
   "metadata": {},
   "outputs": [],
   "source": [
    "a = 9\n",
    "b = 4\n",
    "print(a + b, a - b, a * b)\n",
    "print(a / b) # деление с остатком\n",
    "print(a // b) # целочисленное деление\n",
    "print(a % b) # остаток от деления\n",
    "print(a**b) # степень"
   ]
  },
  {
   "cell_type": "markdown",
   "metadata": {},
   "source": [
    "## Условные инструкции\n",
    " if... else: \n",
    " Используются знаки отношений аналогично Лазарусу >,<,<=,>=, а также \"логическое или\" <b>or</b> и \"логическое и\" <b>and</b>"
   ]
  },
  {
   "cell_type": "code",
   "execution_count": null,
   "metadata": {},
   "outputs": [],
   "source": [
    "a = int(input())# введите целые числа\n",
    "b = int(input())# введите целые числа\n",
    "if a >= b:\n",
    "    print(str(a) + \" >= \" + str(b))\n",
    "else:\n",
    "    print(str(a) + \" < \" + str(b))"
   ]
  },
  {
   "cell_type": "markdown",
   "metadata": {},
   "source": [
    "Пример программы, определяющий четверть координатной плоскости, можно переписать используя \"каскадную\" последовательность операций if... elif... else:"
   ]
  },
  {
   "cell_type": "code",
   "execution_count": null,
   "metadata": {},
   "outputs": [],
   "source": [
    "x = int(input())\n",
    "y = int(input())\n",
    "if x > 0 and y > 0:\n",
    "    print(\"Первая четверть\")\n",
    "elif x > 0 and y < 0:\n",
    "    print(\"Четвертая четверть\")\n",
    "elif x < 0 and y > 0  :\n",
    "    print(\"Вторая четверть\")\n",
    "elif x < 0 and y < 0  :\n",
    "    print(\"Третья четверть\")\n",
    "else:\n",
    "    print(\"Точка лежит на координатной оси\")"
   ]
  },
  {
   "cell_type": "markdown",
   "metadata": {},
   "source": [
    "### Модуль math"
   ]
  },
  {
   "cell_type": "markdown",
   "metadata": {},
   "source": [
    "<table border=\"1\" cellpadding=\"4\"> \n",
    "<tr> \n",
    "<th>Функция</th> \n",
    "<th>Описание</th> \n",
    "</tr> \n",
    "    <tr> \n",
    "<td><b><code>gcd(a, b)<code></b></td> \n",
    "<td>Наибольший общий делитель чисел a, b.</td> \n",
    "</tr> \n",
    "<tr>    \n",
    "<td colspan=2>Округление</td> \n",
    "</tr> \n",
    "<tr> \n",
    "<td><b><code>int(x)<code></b></td> \n",
    "<td>Округляет число в сторону нуля. Это стандартная функция, для ее использования не нужно подключать\n",
    "    модуль <code>math</code>.</td> \n",
    "</tr> \n",
    "<tr> \n",
    "<td><b><code>round(x)</code></b></td> \n",
    "<td>Округляет число до ближайшего целого. Если дробная часть числа равна 0.5, то число округляется \n",
    "    до ближайшего четного числа.</td> \n",
    "</tr> \n",
    "<tr> \n",
    "<td><b><code>round(x, n)</code></b></td> \n",
    "<td>Округляет число <code>x</code> \n",
    "    до <code>n</code> знаков после точки. Это стандартная функция, для ее использования не нужно подключать\n",
    "            модуль <code>math</code>.</td> \n",
    "</tr> \n",
    "<tr> \n",
    "<td><b><code>floor(x)</code></b></td> \n",
    "<td>Округляет число вниз (&laquo;пол&raquo;), при этом <code>floor(1.5)&nbsp;==&nbsp;1</code>, <code>floor(-1.5)&nbsp;==&nbsp;-2</code></td> \n",
    "</tr> \n",
    "<tr> \n",
    "<td><b><code>ceil(x)</code></b></td> \n",
    "<td>Округляет число вверх (&laquo;потолок&raquo;), при этом <code>ceil(1.5)&nbsp;==&nbsp;2</code>, <code>ceil(-1.5)&nbsp;==&nbsp;-1</code></td> \n",
    "</tr> \n",
    "<tr> \n",
    "<td><b><code>abs(x)</code></b></td> \n",
    "<td>Модуль (абсолютная величина). Это &mdash; стандартная функция.</code></td> \n",
    "</tr> \n",
    "<tr> \n",
    "<td colspan=2>Корни, логарифмы</td> \n",
    "</tr> \n",
    "<tr> \n",
    "<td><b><code>sqrt(x)</code></b></td> \n",
    "<td>Квадратный корень. Использование: <code>sqrt(x)</code></td> \n",
    "</tr> \n",
    "<tr> \n",
    "<td><b><code>log(x)</code></b></td> \n",
    "<td>Натуральный логарифм. При вызове в виде <code>log(x, b)</code> возвращает логарифм по основанию <code>b</code>.</td> \n",
    "</tr> \n",
    "<tr> \n",
    "<td><b><code>e</code></b></td> \n",
    "<td>Основание натуральных логарифмов e = 2,71828...</td> \n",
    "</tr> \n",
    "<tr> \n",
    "<td colspan=2>Тригонометрия</td> \n",
    "</tr> \n",
    "<td><b><code>sin(x)</code></b></td> \n",
    "<td>Синус угла, задаваемого в радианах</td> \n",
    "</tr> \n",
    "<tr> \n",
    "<td><b><code>cos(x)</code></b></td> \n",
    "<td>Косинус угла, задаваемого в радианах</td> \n",
    "</tr> \n",
    "<tr> \n",
    "<td><b><code>tan(x)</code></b></td> \n",
    "<td>Тангенс угла, задаваемого в радианах</td> \n",
    "</tr> \n",
    "<tr> \n",
    "<td><b><code>asin(x)</code></b></td> \n",
    "<td>Арксинус, возвращает значение в радианах</td> \n",
    "</tr> \n",
    "<tr> \n",
    "<td><b><code>acos(x)</code></b></td> \n",
    "<td>Арккосинус, возвращает значение в радианах</td> \n",
    "</tr> \n",
    "<tr> \n",
    "<td><b><code>atan(x)</code></b></td> \n",
    "<td>Арктангенс, возвращает значение в радианах</td> \n",
    "</tr> \n",
    "<tr> \n",
    "<td><b><nobr><code>atan2(y, x)</code></nobr></b></td> \n",
    "<td>Полярный угол (в радианах) точки с координатами (x, y).</td> \n",
    "</tr> \n",
    "<tr> \n",
    "<tr> \n",
    "<td><b><code>degrees(x)</code></b></td> \n",
    "<td>Преобразует угол, заданный в радианах, в градусы.</td> \n",
    "</tr> \n",
    "<tr> \n",
    "<td><b><code>radians(x)</code></b></td> \n",
    "<td>Преобразует угол, заданный в градусах, в радианы.</td> \n",
    "</tr> \n",
    "<tr> \n",
    "<td><b><code>pi</code></b></td> \n",
    "<td>Константа <i>&pi;</i> = 3.1415...</td> \n",
    "</tr> \n",
    "</table> "
   ]
  },
  {
   "cell_type": "markdown",
   "metadata": {},
   "source": [
    "Для подключения модуля необходимо использовать ключевое слово импорт"
   ]
  },
  {
   "cell_type": "code",
   "execution_count": null,
   "metadata": {},
   "outputs": [],
   "source": [
    "import math\n",
    "a = 0.54\n",
    "print('sin(a) = ',math.sin(a), ' cos(a) = ', math.cos(a))\n",
    "print(\"sin(a)^2+cos(a)^2 = \",math.sin(a)**2+math.cos(a)**2)"
   ]
  },
  {
   "cell_type": "markdown",
   "metadata": {},
   "source": [
    "## Циклы"
   ]
  },
  {
   "cell_type": "markdown",
   "metadata": {},
   "source": [
    "while условие - цикл пока условие используют, когда мы точно не знаем сколько раз выполнять итерации цикла, но знаем по какому условию цикл должен закончится."
   ]
  },
  {
   "cell_type": "code",
   "execution_count": null,
   "metadata": {},
   "outputs": [],
   "source": [
    "n = 0\n",
    "while n < 10:\n",
    "    print(n, end = ' ')\n",
    "    n = n + 1"
   ]
  },
  {
   "cell_type": "code",
   "execution_count": null,
   "metadata": {},
   "outputs": [],
   "source": [
    "n = 20\n",
    "while n > 0:\n",
    "    print(n, end = ' ')\n",
    "    n = n - 1"
   ]
  },
  {
   "cell_type": "markdown",
   "metadata": {},
   "source": [
    "Цикл for иcпользуется, когда мы точно знаем сколько раз выполнять итерации. Используется функия range."
   ]
  },
  {
   "cell_type": "code",
   "execution_count": null,
   "metadata": {},
   "outputs": [],
   "source": [
    "for i in range(1, 11): # от 1 до 10 включительно с шагом 1 по умолчанию\n",
    "    print(i, end = ' ')"
   ]
  },
  {
   "cell_type": "code",
   "execution_count": null,
   "metadata": {},
   "outputs": [],
   "source": [
    "for i in range(10, 0, -1): # от 10 до 1 включительно с шагом -1\n",
    "    print(i, end = ' ')"
   ]
  },
  {
   "cell_type": "code",
   "execution_count": null,
   "metadata": {},
   "outputs": [],
   "source": [
    "for i in range(10, -1, -2): # от 10 до 0 включительно с шагом -2\n",
    "    print(i, end = ' ')"
   ]
  },
  {
   "cell_type": "markdown",
   "metadata": {},
   "source": [
    "Цикл for может итерироваться по последовательностям (строкам, спискам, кортежам, словарям и.т.д)"
   ]
  },
  {
   "cell_type": "code",
   "execution_count": null,
   "metadata": {},
   "outputs": [],
   "source": [
    "for i in 'Hello':\n",
    "    print(i)"
   ]
  },
  {
   "cell_type": "code",
   "execution_count": null,
   "metadata": {},
   "outputs": [],
   "source": [
    "for i in [10, 3, 9, 5]:\n",
    "    print(str(i) + \" + \" + str(i), \" = \", i + i)"
   ]
  },
  {
   "cell_type": "markdown",
   "metadata": {},
   "source": [
    "Для итерации по последовательностям существует удобная функция enumerate для получения индекса элемента.\n",
    "ind, el - в примере это тип кортеж"
   ]
  },
  {
   "cell_type": "code",
   "execution_count": null,
   "metadata": {},
   "outputs": [],
   "source": [
    "for ind, el in enumerate('Hello'):\n",
    "    print(\"Символ \", el, \"имеет индекс\", ind)"
   ]
  },
  {
   "cell_type": "code",
   "execution_count": null,
   "metadata": {},
   "outputs": [],
   "source": [
    "for ind, el in enumerate('Hello', start = 1): # start=1 - начинаем счет с 1\n",
    "    print(\"Символ \", el, \"имеет индекс\", ind)"
   ]
  },
  {
   "cell_type": "markdown",
   "metadata": {},
   "source": [
    "## Списки"
   ]
  },
  {
   "cell_type": "markdown",
   "metadata": {},
   "source": [
    "Списки - это контейнеры, которые могут содержать данные других типов"
   ]
  },
  {
   "cell_type": "code",
   "execution_count": null,
   "metadata": {},
   "outputs": [],
   "source": [
    "a = [10, 20, 30, 40, 50, 60, 70, 80]"
   ]
  },
  {
   "cell_type": "code",
   "execution_count": null,
   "metadata": {},
   "outputs": [],
   "source": [
    "type(a)"
   ]
  },
  {
   "cell_type": "code",
   "execution_count": null,
   "metadata": {},
   "outputs": [],
   "source": [
    "print(a[0], a[-1]) # доступ по индексу, первый индекс - нулевой, последний -1"
   ]
  },
  {
   "cell_type": "markdown",
   "metadata": {},
   "source": [
    "Для добавления элементов в список используется функция append. Она ничего не возвращает, а изменяет список."
   ]
  },
  {
   "cell_type": "code",
   "execution_count": null,
   "metadata": {},
   "outputs": [],
   "source": [
    "a.append(90)"
   ]
  },
  {
   "cell_type": "code",
   "execution_count": null,
   "metadata": {},
   "outputs": [],
   "source": [
    "a"
   ]
  },
  {
   "cell_type": "code",
   "execution_count": null,
   "metadata": {},
   "outputs": [],
   "source": [
    "a + [100,110] # операция + объединяет списки, но исходный список не изменяет"
   ]
  },
  {
   "cell_type": "code",
   "execution_count": null,
   "metadata": {},
   "outputs": [],
   "source": [
    "a # исходный список не изменился"
   ]
  },
  {
   "cell_type": "markdown",
   "metadata": {},
   "source": [
    "Для добавления нескольких элементов в список, нужно использовать функцию extend"
   ]
  },
  {
   "cell_type": "code",
   "execution_count": null,
   "metadata": {},
   "outputs": [],
   "source": [
    "a.extend([100,110])"
   ]
  },
  {
   "cell_type": "code",
   "execution_count": null,
   "metadata": {},
   "outputs": [],
   "source": [
    " a  # исходный список a изменился"
   ]
  },
  {
   "cell_type": "markdown",
   "metadata": {},
   "source": [
    "### Срезы"
   ]
  },
  {
   "cell_type": "markdown",
   "metadata": {},
   "source": [
    "Срезы имеют синтаксис start:end:step = и вырезают из последовательностей элементы с индексами от start до end-1 с шагом step . Если шаг не указан, то он равен 1. Отдельные элементы start,end, step могут быть пропущены a[:]-пропущен start и end, a[2:]-пропущен end, a[:2]-пропущен старт, a[::2]-пропущен start, end, шаг=2. Элементы могут быть отрицательными. "
   ]
  },
  {
   "cell_type": "code",
   "execution_count": null,
   "metadata": {},
   "outputs": [],
   "source": [
    "a[2:5] # 2,3,4 - элементы при нумерации с 0"
   ]
  },
  {
   "cell_type": "code",
   "execution_count": null,
   "metadata": {},
   "outputs": [],
   "source": [
    "a[:2] # 0, 1 - элементы при нумерации с 0"
   ]
  },
  {
   "cell_type": "code",
   "execution_count": null,
   "metadata": {},
   "outputs": [],
   "source": [
    "a[:3]# 0,1,2 - элементы при нумерации с 0"
   ]
  },
  {
   "cell_type": "code",
   "execution_count": null,
   "metadata": {},
   "outputs": [],
   "source": [
    "a[1:8:2] # # элементы с 1 по 7 при нумерации с 0 с шагом 2"
   ]
  },
  {
   "cell_type": "code",
   "execution_count": null,
   "metadata": {},
   "outputs": [],
   "source": [
    "a[2:] # элементы с 2 по конечный при нумерации с 0"
   ]
  },
  {
   "cell_type": "code",
   "execution_count": null,
   "metadata": {},
   "outputs": [],
   "source": [
    "a[2:-1] # элементы с 2 по предпоследний при нумерации с 0"
   ]
  },
  {
   "cell_type": "code",
   "execution_count": null,
   "metadata": {},
   "outputs": [],
   "source": [
    "a[::-1] # список в обратном порядке"
   ]
  },
  {
   "cell_type": "markdown",
   "metadata": {},
   "source": [
    "Операция среза применима к другим типам контейнерам (строкам, кортежам и.т.д)"
   ]
  },
  {
   "cell_type": "code",
   "execution_count": null,
   "metadata": {},
   "outputs": [],
   "source": [
    "\"World\"[2:]"
   ]
  },
  {
   "cell_type": "code",
   "execution_count": null,
   "metadata": {},
   "outputs": [],
   "source": [
    "\"World\"[1:3]"
   ]
  },
  {
   "cell_type": "code",
   "execution_count": null,
   "metadata": {},
   "outputs": [],
   "source": [
    "\"World\"[::-1] # наоборот"
   ]
  },
  {
   "cell_type": "code",
   "execution_count": null,
   "metadata": {},
   "outputs": [],
   "source": [
    "\"World\"[-3:]# последние три символа"
   ]
  },
  {
   "cell_type": "markdown",
   "metadata": {},
   "source": [
    "## Операции со списками\n",
    "<table>\n",
    "<tr>\n",
    "<td>x in A</td>\n",
    "<td>Проверить, содержится ли элемент в списке. Возвращает True или False</td>\n",
    "</tr>\n",
    "<tr>\n",
    "<td>x not in A</td>\n",
    "<td>То же самое, что not(x in A)</td>\n",
    "</tr>\n",
    "<tr>\n",
    "\n",
    "<td>min(A)</td>\n",
    "<td>Наименьший элемент списка</td>\n",
    "</tr>\n",
    "<tr>\n",
    "\n",
    "<td>len(A)</td>\n",
    "<td>Длина списка А (количество элементов)</td>\n",
    "</tr>\n",
    "<tr>\n",
    "<td>max(A)</td>\n",
    "<td>Наибольший элемент списка</td>\n",
    "</tr>\n",
    "<tr><td><b>list.append</b>(x)</td><td>Добавляет элемент в конец списка</td></tr><tr><td><b>list.extend</b>(L)</td><td>Расширяет список list, добавляя в конец все элементы списка L</td></tr><tr><td><b>list.insert</b>(i, x)</td><td>Вставляет на i-ый элемент значение x</td></tr><tr><td><b>list.remove</b>(x)</td><td>Удаляет первый элемент в списке, имеющий значение x. ValueError, если такого элемента не существует</td></tr><tr><td><b>list.pop</b>([i])</td><td>Удаляет i-ый элемент и возвращает его. Если индекс не указан, удаляется последний элемент</td></tr><tr><td><b>list.index</b>(x, [start [, end]])</td><td>Возвращает положение первого элемента со значением x (при этом поиск ведется от start до end)</td></tr><tr><td><b>list.count</b>(x)</td><td>Возвращает количество элементов со значением x</td></tr><tr><td><b>list.sort</b>([key=функция])</td><td>Сортирует список на основе функции</td></tr><tr><td><b>list.reverse</b>()</td><td>Разворачивает список</td></tr><tr><td><b>list.copy</b>()</td><td>Поверхностная копия списка</td></tr><tr><td><b>list.clear</b>()</td><td>Очищает список</td></tr>\n",
    "</table>"
   ]
  },
  {
   "cell_type": "code",
   "execution_count": null,
   "metadata": {},
   "outputs": [],
   "source": [
    "m = [1,2,3,4]\n",
    "if 2 in m:\n",
    "    print('2 есть в списке m')\n",
    "print('длина списка m = ', len(m))\n",
    "print('max m = ', max(m), \", min m = \", min(m))\n",
    "print(m.index(2))"
   ]
  },
  {
   "cell_type": "markdown",
   "metadata": {},
   "source": [
    "## Строки"
   ]
  },
  {
   "cell_type": "markdown",
   "metadata": {},
   "source": [
    "Строки в python пишутся в одинарных, двойных или тройных кавычках. В тройных кавычках пишутся тексты большого размера с несколькими строками. Отдельные строки разделяются разделителем '\\n' - знак новой строки. К строкам применима операция среза смотрите выше. \\\\-знак экранирования применяется когда необходимо ввести определенные символы, например \\t - знак табуляции."
   ]
  },
  {
   "cell_type": "code",
   "execution_count": null,
   "metadata": {},
   "outputs": [],
   "source": [
    "\"\"\"Beautiful is better than ugly.\n",
    "Explicit is better than implicit.\n",
    "Simple is better than complex.\n",
    "\"\"\""
   ]
  },
  {
   "cell_type": "code",
   "execution_count": null,
   "metadata": {},
   "outputs": [],
   "source": [
    "zen = 'Beautiful is better than ugly.\\nExplicit is better than implicit.\\nSimple is better than complex.\\n'"
   ]
  },
  {
   "cell_type": "code",
   "execution_count": null,
   "metadata": {},
   "outputs": [],
   "source": [
    "zen.split()# split - разделяет строку на отдельные элементы и выводит список этих элементов"
   ]
  },
  {
   "cell_type": "code",
   "execution_count": null,
   "metadata": {},
   "outputs": [],
   "source": [
    "zen.split('\\n')# split - разделяет строку по символу '\\n'"
   ]
  },
  {
   "cell_type": "code",
   "execution_count": null,
   "metadata": {},
   "outputs": [],
   "source": [
    "print(\"Hello!\"*5) # операция умножения повторяет строку"
   ]
  },
  {
   "cell_type": "code",
   "execution_count": null,
   "metadata": {},
   "outputs": [],
   "source": [
    "len('world') # длина"
   ]
  },
  {
   "cell_type": "markdown",
   "metadata": {},
   "source": [
    "### Функции и методы строк, попробуйте некоторые из них\n",
    "<table border=1 class=docutils><thead valign=bottom><tr><th class=head>Функция или метод</th><th class=head>Назначение</th></tr></thead><tbody valign=top><tr><td><b>S = 'str'; S = \"str\"; S = '''str'''; S = \"\"\"str\"\"\"</b></td><td>Литералы строк</td></tr><tr><td><b>S = \"s\\np\\ta\\nbbb\"</b></td><td>Экранированные последовательности</td></tr><tr><td><b>S = r\"C:\\temp\\new\"</b></td><td>Неформатированные строки (подавляют экранирование)</td></tr><tr><td><b>S = b\"byte\"</b></td><td>Строка байтов</td></tr><tr><td><b>S1 + S2</b></td><td>Конкатенация (сложение строк)</td></tr><tr><td><b>S1 * 3</b></td><td>Повторение строки</td></tr><tr><td><b>S[i]</b></td><td>Обращение по индексу</td></tr><tr><td><b>S[i:j:step]</b></td><td>Извлечение среза</td></tr><tr><td><b>len</b>(S)</td><td>Длина строки</td></tr><tr><td><b>S.find</b>(str, [start],[end])</td><td>Поиск подстроки в строке. Возвращает номер первого вхождения или -1</td></tr><tr><td><b>S.rfind</b>(str, [start],[end])</td><td>Поиск подстроки в строке. Возвращает номер последнего вхождения или -1</td></tr><tr><td><b>S.index</b>(str, [start],[end])</td><td>Поиск подстроки в строке. Возвращает номер первого вхождения или вызывает ValueError</td></tr><tr><td><b>S.rindex</b>(str, [start],[end])</td><td>Поиск подстроки в строке. Возвращает номер последнего вхождения или вызывает ValueError</td></tr><tr><td><b>S.replace</b>(шаблон, замена)</td><td>Замена шаблона</td></tr><tr><td><b>S.split</b>(символ)</td><td>Разбиение строки по разделителю</td></tr><tr><td><b>S.isdigit</b>()</td><td>Состоит ли строка из цифр</td></tr><tr><td><b>S.isalpha</b>()</td><td>Состоит ли строка из букв</td></tr><tr><td><b>S.isalnum</b>()</td><td>Состоит ли строка из цифр или букв</td></tr><tr><td><b>S.islower</b>()</td><td>Состоит ли строка из символов в нижнем регистре</td></tr><tr><td><b>S.isupper</b>()</td><td>Состоит ли строка из символов в верхнем регистре</td></tr><tr><td><b>S.isspace</b>()</td><td>Состоит ли строка из неотображаемых символов (пробел, символ перевода страницы ('\\f'), \"новая строка\" ('\\n'), \"перевод каретки\" ('\\r'), \"горизонтальная табуляция\" ('\\t') и \"вертикальная табуляция\" ('\\v'))</td></tr><tr><td><b>S.istitle</b>()</td><td>Начинаются ли слова в строке с заглавной буквы</td></tr><tr><td><b>S.upper</b>()</td><td>Преобразование строки к верхнему регистру</td></tr><tr><td><b>S.lower</b>()</td><td>Преобразование строки к нижнему регистру</td></tr><tr><td><b>S.startswith</b>(str)</td><td>Начинается ли строка S с шаблона str</td></tr><tr><td><b>S.endswith</b>(str)</td><td>Заканчивается ли строка S шаблоном str</td></tr><tr><td><b>S.join</b>(список)</td><td>Сборка строки из списка с разделителем S</td></tr><tr><td><b>ord</b>(символ)</td><td>Символ в его код ASCII</td></tr><tr><td><b>chr</b>(число)</td><td>Код ASCII в символ</td></tr><tr><td><b>S.capitalize</b>()</td><td>Переводит первый символ строки в верхний регистр, а все остальные в нижний</td></tr><tr><td><b>S.center</b>(width, [fill])</td><td>Возвращает отцентрованную строку, по краям которой стоит символ fill (пробел по умолчанию)</td></tr><tr><td><b>S.count</b>(str, [start],[end])</td><td>Возвращает количество непересекающихся вхождений подстроки в диапазоне [начало, конец] (0 и длина строки по умолчанию)</td></tr><tr><td><b>S.expandtabs</b>([tabsize])</td><td>Возвращает копию строки, в которой все символы табуляции заменяются одним или несколькими пробелами, в зависимости от текущего столбца. Если TabSize не указан, размер табуляции полагается равным 8 пробелам</td></tr><tr><td><b>S.lstrip</b>([chars])</td><td>Удаление пробельных символов в начале строки</td></tr><tr><td><b>S.rstrip</b>([chars])</td><td>Удаление пробельных символов в конце строки</td></tr><tr><td><b>S.strip</b>([chars])</td><td>Удаление пробельных символов в начале и в конце строки</td></tr><tr><td><b>S.partition</b>(шаблон)</td><td>Возвращает кортеж, содержащий часть перед первым шаблоном, сам шаблон, и часть после шаблона. Если шаблон не найден, возвращается кортеж, содержащий саму строку, а затем две пустых строки</td></tr><tr><td><b>S.rpartition</b>(sep)</td><td>Возвращает кортеж, содержащий часть перед последним шаблоном, сам шаблон, и часть после шаблона. Если шаблон не найден, возвращается кортеж, содержащий две пустых строки, а затем саму строку</td></tr><tr><td><b>S.swapcase</b>()</td><td>Переводит символы нижнего регистра в верхний, а верхнего – в нижний</td></tr><tr><td><b>S.title</b>()</td><td>Первую букву каждого слова переводит в верхний регистр, а все остальные в нижний</td></tr><tr><td><b>S.zfill</b>(width)</td><td>Делает длину строки не меньшей width, по необходимости заполняя первые символы нулями</td></tr><tr><td><b>S.ljust</b>(width, fillchar=\" \")</td><td>Делает длину строки не меньшей width, по необходимости заполняя последние символы символом fillchar</td></tr><tr><td><b>S.rjust</b>(width, fillchar=\" \")</td><td>Делает длину строки не меньшей width, по необходимости заполняя первые символы символом fillchar</td></tr><tr><td><b>S.format</b>(*args, **kwargs)</td><td>Форматирование строки</td></tr></tbody></table>"
   ]
  },
  {
   "cell_type": "code",
   "execution_count": null,
   "metadata": {},
   "outputs": [],
   "source": [
    "s = \"  long string   \""
   ]
  },
  {
   "cell_type": "code",
   "execution_count": null,
   "metadata": {},
   "outputs": [],
   "source": [
    "s1 = s.strip()"
   ]
  },
  {
   "cell_type": "code",
   "execution_count": null,
   "metadata": {},
   "outputs": [],
   "source": [
    "s1"
   ]
  },
  {
   "cell_type": "code",
   "execution_count": null,
   "metadata": {},
   "outputs": [],
   "source": [
    "s1.capitalize()"
   ]
  },
  {
   "cell_type": "markdown",
   "metadata": {},
   "source": [
    "Обратите особое внимание на разделение строк split и соединение join. Эти функции используются очень часто на практике."
   ]
  },
  {
   "cell_type": "code",
   "execution_count": null,
   "metadata": {},
   "outputs": [],
   "source": [
    "list1 = s1.split()\n",
    "list1"
   ]
  },
  {
   "cell_type": "code",
   "execution_count": null,
   "metadata": {},
   "outputs": [],
   "source": [
    "'-'.join(list1)"
   ]
  },
  {
   "cell_type": "code",
   "execution_count": null,
   "metadata": {},
   "outputs": [],
   "source": [
    "';'.join(list1)"
   ]
  },
  {
   "cell_type": "code",
   "execution_count": null,
   "metadata": {},
   "outputs": [],
   "source": [
    "s1[s1.index('n'):]"
   ]
  },
  {
   "cell_type": "code",
   "execution_count": null,
   "metadata": {},
   "outputs": [],
   "source": [
    "\"{a} + {b} = {c}\".format(a=2, b=3, c=5)"
   ]
  },
  {
   "cell_type": "code",
   "execution_count": null,
   "metadata": {},
   "outputs": [],
   "source": [
    "S = 'Hello'\n",
    "print(S.find('e'))\n",
    "# вернёт 1\n",
    "print(S.find('ll'))\n",
    "# вернёт 2\n",
    "print(S.find('L'))\n",
    "# вернёт -1\n",
    "print('Abrakadabra'.replace('a', 'A', 2))\n",
    "print('Abrakadabra'.replace('a', 'A'))\n",
    "# вернёт 'AbrAkAdabra'"
   ]
  },
  {
   "cell_type": "markdown",
   "metadata": {},
   "source": [
    "## Кортежи (tuple)"
   ]
  },
  {
   "cell_type": "markdown",
   "metadata": {},
   "source": [
    "Кортежи - это неизменяемые списки, то есть списки размер которых не меняется после задания. К ним применимы почти все операции списков, кроме тех которые изменяют списки (append, extend...)."
   ]
  },
  {
   "cell_type": "code",
   "execution_count": null,
   "metadata": {},
   "outputs": [],
   "source": [
    "a = (2,) # кортеж из одного элемента"
   ]
  },
  {
   "cell_type": "code",
   "execution_count": null,
   "metadata": {},
   "outputs": [],
   "source": [
    "type(a)"
   ]
  },
  {
   "cell_type": "code",
   "execution_count": null,
   "metadata": {},
   "outputs": [],
   "source": [
    "b = (1, 2, 3)"
   ]
  },
  {
   "cell_type": "code",
   "execution_count": null,
   "metadata": {},
   "outputs": [],
   "source": [
    "b[1]"
   ]
  }
 ],
 "metadata": {
  "kernelspec": {
   "display_name": "Python 3",
   "language": "python",
   "name": "python3"
  },
  "language_info": {
   "codemirror_mode": {
    "name": "ipython",
    "version": 3
   },
   "file_extension": ".py",
   "mimetype": "text/x-python",
   "name": "python",
   "nbconvert_exporter": "python",
   "pygments_lexer": "ipython3",
   "version": "3.8.3rc1"
  }
 },
 "nbformat": 4,
 "nbformat_minor": 4
}
